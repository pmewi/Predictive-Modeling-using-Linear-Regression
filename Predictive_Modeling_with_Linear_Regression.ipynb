{
  "nbformat": 4,
  "nbformat_minor": 0,
  "metadata": {
    "colab": {
      "provenance": [],
      "include_colab_link": true
    },
    "kernelspec": {
      "name": "python3",
      "display_name": "Python 3"
    },
    "language_info": {
      "name": "python"
    }
  },
  "cells": [
    {
      "cell_type": "markdown",
      "metadata": {
        "id": "view-in-github",
        "colab_type": "text"
      },
      "source": [
        "<a href=\"https://colab.research.google.com/github/pmewi/Predictive-Modeling-using-Linear-Regression/blob/main/Predictive_Modeling_with_Linear_Regression.ipynb\" target=\"_parent\"><img src=\"https://colab.research.google.com/assets/colab-badge.svg\" alt=\"Open In Colab\"/></a>"
      ]
    },
    {
      "cell_type": "markdown",
      "source": [
        "This assignment will help build your skills in predictive modeling using linear regression. You will utilize a dataset containing data from previous NBA seasons for winning percentage (WIN%), field goal percentage (FG%), 3 point percentage (3P%), free throw percentage (FT%), and turnovers per game (TOV). Your goal for this assignment is to use data from FG%, 3P%, FT%, and TOV to model the outcome variable of WIN%. A scenario like this might be used to look at trends in the league and determine areas of the game that have the largest influence on winning."
      ],
      "metadata": {
        "id": "5my2Iq-FtVoj"
      }
    },
    {
      "cell_type": "code",
      "source": [
        "#read the necessary data file\n",
        "import pandas as pd\n",
        "nbadf = pd.read_csv(\"/content/nba team stats.csv\")\n",
        "nbadf.head()"
      ],
      "metadata": {
        "id": "nO79zW5ct2Dp",
        "colab": {
          "base_uri": "https://localhost:8080/",
          "height": 206
        },
        "outputId": "650f39cd-9da3-4e31-8213-e5ff6e995b6f"
      },
      "execution_count": null,
      "outputs": [
        {
          "output_type": "execute_result",
          "data": {
            "text/plain": [
              "   ID                   TEAM  WIN%   FG%   3P%   FT%   TOV   SEASON\n",
              "0   0           Phoenix Suns  80.8  47.8  36.3  79.1  13.3  2020-21\n",
              "1   1  Golden State Warriors  75.5  46.7  36.4  76.4  15.6  2020-21\n",
              "2   2      Memphis Grizzlies  67.3  45.7  33.9  73.7  13.3  2020-21\n",
              "3   3             Miami Heat  63.0  45.9  37.5  81.5  14.9  2020-21\n",
              "4   4          Chicago Bulls  62.3  47.8  37.2  81.4  13.0  2020-21"
            ],
            "text/html": [
              "\n",
              "  <div id=\"df-4a3493fd-38e1-4c3d-b717-885dd0a01f74\">\n",
              "    <div class=\"colab-df-container\">\n",
              "      <div>\n",
              "<style scoped>\n",
              "    .dataframe tbody tr th:only-of-type {\n",
              "        vertical-align: middle;\n",
              "    }\n",
              "\n",
              "    .dataframe tbody tr th {\n",
              "        vertical-align: top;\n",
              "    }\n",
              "\n",
              "    .dataframe thead th {\n",
              "        text-align: right;\n",
              "    }\n",
              "</style>\n",
              "<table border=\"1\" class=\"dataframe\">\n",
              "  <thead>\n",
              "    <tr style=\"text-align: right;\">\n",
              "      <th></th>\n",
              "      <th>ID</th>\n",
              "      <th>TEAM</th>\n",
              "      <th>WIN%</th>\n",
              "      <th>FG%</th>\n",
              "      <th>3P%</th>\n",
              "      <th>FT%</th>\n",
              "      <th>TOV</th>\n",
              "      <th>SEASON</th>\n",
              "    </tr>\n",
              "  </thead>\n",
              "  <tbody>\n",
              "    <tr>\n",
              "      <th>0</th>\n",
              "      <td>0</td>\n",
              "      <td>Phoenix Suns</td>\n",
              "      <td>80.8</td>\n",
              "      <td>47.8</td>\n",
              "      <td>36.3</td>\n",
              "      <td>79.1</td>\n",
              "      <td>13.3</td>\n",
              "      <td>2020-21</td>\n",
              "    </tr>\n",
              "    <tr>\n",
              "      <th>1</th>\n",
              "      <td>1</td>\n",
              "      <td>Golden State Warriors</td>\n",
              "      <td>75.5</td>\n",
              "      <td>46.7</td>\n",
              "      <td>36.4</td>\n",
              "      <td>76.4</td>\n",
              "      <td>15.6</td>\n",
              "      <td>2020-21</td>\n",
              "    </tr>\n",
              "    <tr>\n",
              "      <th>2</th>\n",
              "      <td>2</td>\n",
              "      <td>Memphis Grizzlies</td>\n",
              "      <td>67.3</td>\n",
              "      <td>45.7</td>\n",
              "      <td>33.9</td>\n",
              "      <td>73.7</td>\n",
              "      <td>13.3</td>\n",
              "      <td>2020-21</td>\n",
              "    </tr>\n",
              "    <tr>\n",
              "      <th>3</th>\n",
              "      <td>3</td>\n",
              "      <td>Miami Heat</td>\n",
              "      <td>63.0</td>\n",
              "      <td>45.9</td>\n",
              "      <td>37.5</td>\n",
              "      <td>81.5</td>\n",
              "      <td>14.9</td>\n",
              "      <td>2020-21</td>\n",
              "    </tr>\n",
              "    <tr>\n",
              "      <th>4</th>\n",
              "      <td>4</td>\n",
              "      <td>Chicago Bulls</td>\n",
              "      <td>62.3</td>\n",
              "      <td>47.8</td>\n",
              "      <td>37.2</td>\n",
              "      <td>81.4</td>\n",
              "      <td>13.0</td>\n",
              "      <td>2020-21</td>\n",
              "    </tr>\n",
              "  </tbody>\n",
              "</table>\n",
              "</div>\n",
              "      <button class=\"colab-df-convert\" onclick=\"convertToInteractive('df-4a3493fd-38e1-4c3d-b717-885dd0a01f74')\"\n",
              "              title=\"Convert this dataframe to an interactive table.\"\n",
              "              style=\"display:none;\">\n",
              "        \n",
              "  <svg xmlns=\"http://www.w3.org/2000/svg\" height=\"24px\"viewBox=\"0 0 24 24\"\n",
              "       width=\"24px\">\n",
              "    <path d=\"M0 0h24v24H0V0z\" fill=\"none\"/>\n",
              "    <path d=\"M18.56 5.44l.94 2.06.94-2.06 2.06-.94-2.06-.94-.94-2.06-.94 2.06-2.06.94zm-11 1L8.5 8.5l.94-2.06 2.06-.94-2.06-.94L8.5 2.5l-.94 2.06-2.06.94zm10 10l.94 2.06.94-2.06 2.06-.94-2.06-.94-.94-2.06-.94 2.06-2.06.94z\"/><path d=\"M17.41 7.96l-1.37-1.37c-.4-.4-.92-.59-1.43-.59-.52 0-1.04.2-1.43.59L10.3 9.45l-7.72 7.72c-.78.78-.78 2.05 0 2.83L4 21.41c.39.39.9.59 1.41.59.51 0 1.02-.2 1.41-.59l7.78-7.78 2.81-2.81c.8-.78.8-2.07 0-2.86zM5.41 20L4 18.59l7.72-7.72 1.47 1.35L5.41 20z\"/>\n",
              "  </svg>\n",
              "      </button>\n",
              "      \n",
              "  <style>\n",
              "    .colab-df-container {\n",
              "      display:flex;\n",
              "      flex-wrap:wrap;\n",
              "      gap: 12px;\n",
              "    }\n",
              "\n",
              "    .colab-df-convert {\n",
              "      background-color: #E8F0FE;\n",
              "      border: none;\n",
              "      border-radius: 50%;\n",
              "      cursor: pointer;\n",
              "      display: none;\n",
              "      fill: #1967D2;\n",
              "      height: 32px;\n",
              "      padding: 0 0 0 0;\n",
              "      width: 32px;\n",
              "    }\n",
              "\n",
              "    .colab-df-convert:hover {\n",
              "      background-color: #E2EBFA;\n",
              "      box-shadow: 0px 1px 2px rgba(60, 64, 67, 0.3), 0px 1px 3px 1px rgba(60, 64, 67, 0.15);\n",
              "      fill: #174EA6;\n",
              "    }\n",
              "\n",
              "    [theme=dark] .colab-df-convert {\n",
              "      background-color: #3B4455;\n",
              "      fill: #D2E3FC;\n",
              "    }\n",
              "\n",
              "    [theme=dark] .colab-df-convert:hover {\n",
              "      background-color: #434B5C;\n",
              "      box-shadow: 0px 1px 3px 1px rgba(0, 0, 0, 0.15);\n",
              "      filter: drop-shadow(0px 1px 2px rgba(0, 0, 0, 0.3));\n",
              "      fill: #FFFFFF;\n",
              "    }\n",
              "  </style>\n",
              "\n",
              "      <script>\n",
              "        const buttonEl =\n",
              "          document.querySelector('#df-4a3493fd-38e1-4c3d-b717-885dd0a01f74 button.colab-df-convert');\n",
              "        buttonEl.style.display =\n",
              "          google.colab.kernel.accessAllowed ? 'block' : 'none';\n",
              "\n",
              "        async function convertToInteractive(key) {\n",
              "          const element = document.querySelector('#df-4a3493fd-38e1-4c3d-b717-885dd0a01f74');\n",
              "          const dataTable =\n",
              "            await google.colab.kernel.invokeFunction('convertToInteractive',\n",
              "                                                     [key], {});\n",
              "          if (!dataTable) return;\n",
              "\n",
              "          const docLinkHtml = 'Like what you see? Visit the ' +\n",
              "            '<a target=\"_blank\" href=https://colab.research.google.com/notebooks/data_table.ipynb>data table notebook</a>'\n",
              "            + ' to learn more about interactive tables.';\n",
              "          element.innerHTML = '';\n",
              "          dataTable['output_type'] = 'display_data';\n",
              "          await google.colab.output.renderOutput(dataTable, element);\n",
              "          const docLink = document.createElement('div');\n",
              "          docLink.innerHTML = docLinkHtml;\n",
              "          element.appendChild(docLink);\n",
              "        }\n",
              "      </script>\n",
              "    </div>\n",
              "  </div>\n",
              "  "
            ]
          },
          "metadata": {},
          "execution_count": 1
        }
      ]
    },
    {
      "cell_type": "code",
      "source": [
        "#check for missing data and impute values for each of the variables as necessary\n",
        "import numpy as np\n",
        "nbadf.isna().sum()"
      ],
      "metadata": {
        "id": "ACSTvfKSyMgD",
        "colab": {
          "base_uri": "https://localhost:8080/"
        },
        "outputId": "64360fb1-700b-49ea-88c8-c06b1568e893"
      },
      "execution_count": null,
      "outputs": [
        {
          "output_type": "execute_result",
          "data": {
            "text/plain": [
              "ID        0\n",
              "TEAM      0\n",
              "WIN%      0\n",
              "FG%       0\n",
              "3P%       0\n",
              "FT%       0\n",
              "TOV       0\n",
              "SEASON    0\n",
              "dtype: int64"
            ]
          },
          "metadata": {},
          "execution_count": 12
        }
      ]
    },
    {
      "cell_type": "markdown",
      "source": [
        "No missing values. Any missing values would have returned a value of \"1\""
      ],
      "metadata": {
        "id": "umD9Z4diGMYM"
      }
    },
    {
      "cell_type": "code",
      "source": [
        "#check each of the variables for any potential outliers and remove them if necessary\n",
        "import matplotlib.pyplot as plt\n",
        "import numpy as np"
      ],
      "metadata": {
        "id": "VqaI0aOp_ryd"
      },
      "execution_count": null,
      "outputs": []
    },
    {
      "cell_type": "code",
      "source": [
        "#Using WIN% as the dependent variable to see the impact in regards to other variables\n",
        "nbadf.plot(kind=\"scatter\",\n",
        "           x=\"FG%\",\n",
        "           y=\"WIN%\")"
      ],
      "metadata": {
        "colab": {
          "base_uri": "https://localhost:8080/",
          "height": 297
        },
        "id": "b_HvB7c5mi0M",
        "outputId": "b4a3f3bf-e495-4c6d-d088-93bffa158e08"
      },
      "execution_count": null,
      "outputs": [
        {
          "output_type": "execute_result",
          "data": {
            "text/plain": [
              "<matplotlib.axes._subplots.AxesSubplot at 0x7fd730b4d160>"
            ]
          },
          "metadata": {},
          "execution_count": 74
        },
        {
          "output_type": "display_data",
          "data": {
            "text/plain": [
              "<Figure size 432x288 with 1 Axes>"
            ],
            "image/png": "[encoded data removed]"
          },
          "metadata": {
            "needs_background": "light"
          }
        }
      ]
    },
    {
      "cell_type": "code",
      "source": [
        "plt.scatter(nbadf[\"3P%\"],nbadf[\"WIN%\"])\n",
        "plt.show()"
      ],
      "metadata": {
        "colab": {
          "base_uri": "https://localhost:8080/",
          "height": 265
        },
        "id": "6C2CF1QHgwXd",
        "outputId": "7c19942b-2cd9-430c-fe1c-50d72c4a27cf"
      },
      "execution_count": null,
      "outputs": [
        {
          "output_type": "display_data",
          "data": {
            "text/plain": [
              "<Figure size 432x288 with 1 Axes>"
            ],
            "image/png": "[encoded data removed]"
          },
          "metadata": {
            "needs_background": "light"
          }
        }
      ]
    },
    {
      "cell_type": "code",
      "source": [
        "plt.scatter(nbadf[\"FT%\"],nbadf[\"WIN%\"])\n",
        "plt.show()"
      ],
      "metadata": {
        "colab": {
          "base_uri": "https://localhost:8080/",
          "height": 265
        },
        "id": "_t7RL0TBhFrQ",
        "outputId": "22053dfd-8024-4b41-ed09-2472a2556d5c"
      },
      "execution_count": null,
      "outputs": [
        {
          "output_type": "display_data",
          "data": {
            "text/plain": [
              "<Figure size 432x288 with 1 Axes>"
            ],
            "image/png": "[encoded data removed]"
          },
          "metadata": {
            "needs_background": "light"
          }
        }
      ]
    },
    {
      "cell_type": "code",
      "source": [
        "plt.scatter(nbadf[\"TOV\"],nbadf[\"WIN%\"])\n",
        "plt.show()"
      ],
      "metadata": {
        "colab": {
          "base_uri": "https://localhost:8080/",
          "height": 265
        },
        "id": "CWpDVz38hg_q",
        "outputId": "b2cf4998-e1fe-4f9c-a7d6-ddc6a9a5ed12"
      },
      "execution_count": null,
      "outputs": [
        {
          "output_type": "display_data",
          "data": {
            "text/plain": [
              "<Figure size 432x288 with 1 Axes>"
            ],
            "image/png": "[encoded data removed]"
          },
          "metadata": {
            "needs_background": "light"
          }
        }
      ]
    },
    {
      "cell_type": "code",
      "source": [
        "#Defining outlier ranges to remove outlier in FG%\n",
        "def outlier(datacolumn):\n",
        " sorted(datacolumn)\n",
        " Q1 = np.percentile(datacolumn,[25])\n",
        " Q3 = np.percentile(datacolumn , [75])\n",
        " IQR = Q3 - Q1\n",
        " lower_range = Q1 - (1.5 * IQR)\n",
        " upper_range = Q3 + (1.5 * IQR)\n",
        " return lower_range,upper_range\n",
        "\n",
        "print(outlier(nbadf[\"FG%\"]))"
      ],
      "metadata": {
        "colab": {
          "base_uri": "https://localhost:8080/"
        },
        "id": "bakpoADcqfL_",
        "outputId": "77a9c545-0661-4d66-f9f9-402725cae78c"
      },
      "execution_count": null,
      "outputs": [
        {
          "output_type": "stream",
          "name": "stdout",
          "text": [
            "(array([41.15]), array([49.55]))\n"
          ]
        }
      ]
    },
    {
      "cell_type": "code",
      "source": [
        "nbadf[(nbadf['FG%']<41.15) | (nbadf['FG%']>49.55)]"
      ],
      "metadata": {
        "colab": {
          "base_uri": "https://localhost:8080/",
          "height": 332
        },
        "id": "LJYbG7LmvNAQ",
        "outputId": "84170e9f-d64c-410f-92d3-1dc82c53f2b5"
      },
      "execution_count": null,
      "outputs": [
        {
          "output_type": "execute_result",
          "data": {
            "text/plain": [
              "      ID                   TEAM  WIN%   FG%   3P%   FT%   TOV   SEASON\n",
              "92    92  Golden State Warriors  70.7  50.3  39.1  81.5  15.4  2017-18\n",
              "207  207     Philadelphia 76ers  22.0  40.8  32.0  67.6  17.7  2014-15\n",
              "215  215             Miami Heat  65.9  50.1  36.4  76.0  14.8  2013-14\n",
              "240  240             Miami Heat  80.5  49.6  39.6  75.4  13.9  2012-13\n",
              "372  372           Phoenix Suns  56.1  50.4  38.3  74.4  15.7  2008-09\n",
              "396  396           Phoenix Suns  67.1  50.0  39.3  78.3  14.4  2007-08\n",
              "397  397              Utah Jazz  65.9  49.7  37.2  75.9  14.6  2007-08\n",
              "567  567         Denver Nuggets  20.7  41.1  27.8  69.9  18.5  2002-03\n",
              "624  624  Golden State Warriors  20.7  40.9  29.3  70.6  15.9  2000-01"
            ],
            "text/html": [
              "\n",
              "  <div id=\"df-9f291fda-dd6f-4fb4-a4a8-6f755607118f\">\n",
              "    <div class=\"colab-df-container\">\n",
              "      <div>\n",
              "<style scoped>\n",
              "    .dataframe tbody tr th:only-of-type {\n",
              "        vertical-align: middle;\n",
              "    }\n",
              "\n",
              "    .dataframe tbody tr th {\n",
              "        vertical-align: top;\n",
              "    }\n",
              "\n",
              "    .dataframe thead th {\n",
              "        text-align: right;\n",
              "    }\n",
              "</style>\n",
              "<table border=\"1\" class=\"dataframe\">\n",
              "  <thead>\n",
              "    <tr style=\"text-align: right;\">\n",
              "      <th></th>\n",
              "      <th>ID</th>\n",
              "      <th>TEAM</th>\n",
              "      <th>WIN%</th>\n",
              "      <th>FG%</th>\n",
              "      <th>3P%</th>\n",
              "      <th>FT%</th>\n",
              "      <th>TOV</th>\n",
              "      <th>SEASON</th>\n",
              "    </tr>\n",
              "  </thead>\n",
              "  <tbody>\n",
              "    <tr>\n",
              "      <th>92</th>\n",
              "      <td>92</td>\n",
              "      <td>Golden State Warriors</td>\n",
              "      <td>70.7</td>\n",
              "      <td>50.3</td>\n",
              "      <td>39.1</td>\n",
              "      <td>81.5</td>\n",
              "      <td>15.4</td>\n",
              "      <td>2017-18</td>\n",
              "    </tr>\n",
              "    <tr>\n",
              "      <th>207</th>\n",
              "      <td>207</td>\n",
              "      <td>Philadelphia 76ers</td>\n",
              "      <td>22.0</td>\n",
              "      <td>40.8</td>\n",
              "      <td>32.0</td>\n",
              "      <td>67.6</td>\n",
              "      <td>17.7</td>\n",
              "      <td>2014-15</td>\n",
              "    </tr>\n",
              "    <tr>\n",
              "      <th>215</th>\n",
              "      <td>215</td>\n",
              "      <td>Miami Heat</td>\n",
              "      <td>65.9</td>\n",
              "      <td>50.1</td>\n",
              "      <td>36.4</td>\n",
              "      <td>76.0</td>\n",
              "      <td>14.8</td>\n",
              "      <td>2013-14</td>\n",
              "    </tr>\n",
              "    <tr>\n",
              "      <th>240</th>\n",
              "      <td>240</td>\n",
              "      <td>Miami Heat</td>\n",
              "      <td>80.5</td>\n",
              "      <td>49.6</td>\n",
              "      <td>39.6</td>\n",
              "      <td>75.4</td>\n",
              "      <td>13.9</td>\n",
              "      <td>2012-13</td>\n",
              "    </tr>\n",
              "    <tr>\n",
              "      <th>372</th>\n",
              "      <td>372</td>\n",
              "      <td>Phoenix Suns</td>\n",
              "      <td>56.1</td>\n",
              "      <td>50.4</td>\n",
              "      <td>38.3</td>\n",
              "      <td>74.4</td>\n",
              "      <td>15.7</td>\n",
              "      <td>2008-09</td>\n",
              "    </tr>\n",
              "    <tr>\n",
              "      <th>396</th>\n",
              "      <td>396</td>\n",
              "      <td>Phoenix Suns</td>\n",
              "      <td>67.1</td>\n",
              "      <td>50.0</td>\n",
              "      <td>39.3</td>\n",
              "      <td>78.3</td>\n",
              "      <td>14.4</td>\n",
              "      <td>2007-08</td>\n",
              "    </tr>\n",
              "    <tr>\n",
              "      <th>397</th>\n",
              "      <td>397</td>\n",
              "      <td>Utah Jazz</td>\n",
              "      <td>65.9</td>\n",
              "      <td>49.7</td>\n",
              "      <td>37.2</td>\n",
              "      <td>75.9</td>\n",
              "      <td>14.6</td>\n",
              "      <td>2007-08</td>\n",
              "    </tr>\n",
              "    <tr>\n",
              "      <th>567</th>\n",
              "      <td>567</td>\n",
              "      <td>Denver Nuggets</td>\n",
              "      <td>20.7</td>\n",
              "      <td>41.1</td>\n",
              "      <td>27.8</td>\n",
              "      <td>69.9</td>\n",
              "      <td>18.5</td>\n",
              "      <td>2002-03</td>\n",
              "    </tr>\n",
              "    <tr>\n",
              "      <th>624</th>\n",
              "      <td>624</td>\n",
              "      <td>Golden State Warriors</td>\n",
              "      <td>20.7</td>\n",
              "      <td>40.9</td>\n",
              "      <td>29.3</td>\n",
              "      <td>70.6</td>\n",
              "      <td>15.9</td>\n",
              "      <td>2000-01</td>\n",
              "    </tr>\n",
              "  </tbody>\n",
              "</table>\n",
              "</div>\n",
              "      <button class=\"colab-df-convert\" onclick=\"convertToInteractive('df-9f291fda-dd6f-4fb4-a4a8-6f755607118f')\"\n",
              "              title=\"Convert this dataframe to an interactive table.\"\n",
              "              style=\"display:none;\">\n",
              "        \n",
              "  <svg xmlns=\"http://www.w3.org/2000/svg\" height=\"24px\"viewBox=\"0 0 24 24\"\n",
              "       width=\"24px\">\n",
              "    <path d=\"M0 0h24v24H0V0z\" fill=\"none\"/>\n",
              "    <path d=\"M18.56 5.44l.94 2.06.94-2.06 2.06-.94-2.06-.94-.94-2.06-.94 2.06-2.06.94zm-11 1L8.5 8.5l.94-2.06 2.06-.94-2.06-.94L8.5 2.5l-.94 2.06-2.06.94zm10 10l.94 2.06.94-2.06 2.06-.94-2.06-.94-.94-2.06-.94 2.06-2.06.94z\"/><path d=\"M17.41 7.96l-1.37-1.37c-.4-.4-.92-.59-1.43-.59-.52 0-1.04.2-1.43.59L10.3 9.45l-7.72 7.72c-.78.78-.78 2.05 0 2.83L4 21.41c.39.39.9.59 1.41.59.51 0 1.02-.2 1.41-.59l7.78-7.78 2.81-2.81c.8-.78.8-2.07 0-2.86zM5.41 20L4 18.59l7.72-7.72 1.47 1.35L5.41 20z\"/>\n",
              "  </svg>\n",
              "      </button>\n",
              "      \n",
              "  <style>\n",
              "    .colab-df-container {\n",
              "      display:flex;\n",
              "      flex-wrap:wrap;\n",
              "      gap: 12px;\n",
              "    }\n",
              "\n",
              "    .colab-df-convert {\n",
              "      background-color: #E8F0FE;\n",
              "      border: none;\n",
              "      border-radius: 50%;\n",
              "      cursor: pointer;\n",
              "      display: none;\n",
              "      fill: #1967D2;\n",
              "      height: 32px;\n",
              "      padding: 0 0 0 0;\n",
              "      width: 32px;\n",
              "    }\n",
              "\n",
              "    .colab-df-convert:hover {\n",
              "      background-color: #E2EBFA;\n",
              "      box-shadow: 0px 1px 2px rgba(60, 64, 67, 0.3), 0px 1px 3px 1px rgba(60, 64, 67, 0.15);\n",
              "      fill: #174EA6;\n",
              "    }\n",
              "\n",
              "    [theme=dark] .colab-df-convert {\n",
              "      background-color: #3B4455;\n",
              "      fill: #D2E3FC;\n",
              "    }\n",
              "\n",
              "    [theme=dark] .colab-df-convert:hover {\n",
              "      background-color: #434B5C;\n",
              "      box-shadow: 0px 1px 3px 1px rgba(0, 0, 0, 0.15);\n",
              "      filter: drop-shadow(0px 1px 2px rgba(0, 0, 0, 0.3));\n",
              "      fill: #FFFFFF;\n",
              "    }\n",
              "  </style>\n",
              "\n",
              "      <script>\n",
              "        const buttonEl =\n",
              "          document.querySelector('#df-9f291fda-dd6f-4fb4-a4a8-6f755607118f button.colab-df-convert');\n",
              "        buttonEl.style.display =\n",
              "          google.colab.kernel.accessAllowed ? 'block' : 'none';\n",
              "\n",
              "        async function convertToInteractive(key) {\n",
              "          const element = document.querySelector('#df-9f291fda-dd6f-4fb4-a4a8-6f755607118f');\n",
              "          const dataTable =\n",
              "            await google.colab.kernel.invokeFunction('convertToInteractive',\n",
              "                                                     [key], {});\n",
              "          if (!dataTable) return;\n",
              "\n",
              "          const docLinkHtml = 'Like what you see? Visit the ' +\n",
              "            '<a target=\"_blank\" href=https://colab.research.google.com/notebooks/data_table.ipynb>data table notebook</a>'\n",
              "            + ' to learn more about interactive tables.';\n",
              "          element.innerHTML = '';\n",
              "          dataTable['output_type'] = 'display_data';\n",
              "          await google.colab.output.renderOutput(dataTable, element);\n",
              "          const docLink = document.createElement('div');\n",
              "          docLink.innerHTML = docLinkHtml;\n",
              "          element.appendChild(docLink);\n",
              "        }\n",
              "      </script>\n",
              "    </div>\n",
              "  </div>\n",
              "  "
            ]
          },
          "metadata": {},
          "execution_count": 94
        }
      ]
    },
    {
      "cell_type": "code",
      "source": [
        "#drop the outliers from FG% and re-plot with removed outliers\n",
        "nbadf.drop(nbadf[(nbadf['FG%']<41.15) | (nbadf['FG%']>49.55)].index,inplace=True)\n",
        "plt.scatter(nbadf['FG%'],nbadf['WIN%'])"
      ],
      "metadata": {
        "colab": {
          "base_uri": "https://localhost:8080/",
          "height": 283
        },
        "id": "PFZP_OqnwjiA",
        "outputId": "b940bb2e-0669-429c-c913-9fa194966cac"
      },
      "execution_count": null,
      "outputs": [
        {
          "output_type": "execute_result",
          "data": {
            "text/plain": [
              "<matplotlib.collections.PathCollection at 0x7fd730816d90>"
            ]
          },
          "metadata": {},
          "execution_count": 100
        },
        {
          "output_type": "display_data",
          "data": {
            "text/plain": [
              "<Figure size 432x288 with 1 Axes>"
            ],
            "image/png": "[encoded data removed]"
          },
          "metadata": {
            "needs_background": "light"
          }
        }
      ]
    },
    {
      "cell_type": "code",
      "source": [
        "#visually assess the relationship between the output variable and each predictor variable\n",
        "from sklearn import linear_model\n",
        "fg_regression_model = linear_model.LinearRegression()\n",
        "#Train model using FG% \n",
        "fg_regression_model.fit(X=pd.DataFrame(nbadf['FG%']),\n",
        "                        y=nbadf[\"WIN%\"])\n",
        "#check model intercept and coefficient\n",
        "print(fg_regression_model.intercept_)\n",
        "print(fg_regression_model.coef_)\n"
      ],
      "metadata": {
        "colab": {
          "base_uri": "https://localhost:8080/"
        },
        "id": "NxhznPixmDfQ",
        "outputId": "27d7fd20-019d-4e48-b681-e0a01052ae98"
      },
      "execution_count": null,
      "outputs": [
        {
          "output_type": "stream",
          "name": "stdout",
          "text": [
            "-209.027252703233\n",
            "[5.71841055]\n"
          ]
        }
      ]
    },
    {
      "cell_type": "code",
      "source": [
        "#R**2 value\n",
        "fg_regression_model.score(X=pd.DataFrame(nbadf['FG%']),\n",
        "                        y=nbadf[\"WIN%\"])"
      ],
      "metadata": {
        "colab": {
          "base_uri": "https://localhost:8080/"
        },
        "id": "gbOMQC0l0Ufd",
        "outputId": "fd5ff2af-f5c2-420b-84cd-2d22c8247c23"
      },
      "execution_count": null,
      "outputs": [
        {
          "output_type": "execute_result",
          "data": {
            "text/plain": [
              "0.3226336552103095"
            ]
          },
          "metadata": {},
          "execution_count": 105
        }
      ]
    },
    {
      "cell_type": "code",
      "source": [
        "fg_prediction = fg_regression_model.predict(pd.DataFrame(nbadf['FG%']))\n",
        "\n",
        "#actual - prediction = residuals\n",
        "fg_residuals = nbadf['FG%']-fg_prediction\n",
        "fg_residuals.describe()"
      ],
      "metadata": {
        "colab": {
          "base_uri": "https://localhost:8080/"
        },
        "id": "p9490qMy3fev",
        "outputId": "a95753f1-a772-4f16-dfb9-4412078e01f1"
      },
      "execution_count": null,
      "outputs": [
        {
          "output_type": "execute_result",
          "data": {
            "text/plain": [
              "count    617.000000\n",
              "mean      -4.657861\n",
              "std        6.975240\n",
              "min      -24.534069\n",
              "25%       -9.435156\n",
              "50%       -4.244904\n",
              "75%        0.001665\n",
              "max       14.628738\n",
              "Name: FG%, dtype: float64"
            ]
          },
          "metadata": {},
          "execution_count": 107
        }
      ]
    },
    {
      "cell_type": "code",
      "source": [
        "plt.scatter(nbadf['FG%'],nbadf['WIN%'])\n",
        "plt.plot(nbadf[\"FG%\"],\n",
        "         fg_prediction,\n",
        "         color=\"red\")"
      ],
      "metadata": {
        "colab": {
          "base_uri": "https://localhost:8080/",
          "height": 283
        },
        "id": "7oSVFQet6swv",
        "outputId": "43f3d677-30f7-45c8-a766-633477a7652d"
      },
      "execution_count": null,
      "outputs": [
        {
          "output_type": "execute_result",
          "data": {
            "text/plain": [
              "[<matplotlib.lines.Line2D at 0x7fd72d74f7f0>]"
            ]
          },
          "metadata": {},
          "execution_count": 115
        },
        {
          "output_type": "display_data",
          "data": {
            "text/plain": [
              "<Figure size 432x288 with 1 Axes>"
            ],
            "image/png": "[encoded data removed]"
          },
          "metadata": {
            "needs_background": "light"
          }
        }
      ]
    },
    {
      "cell_type": "code",
      "source": [
        "#Developing a regression model for 3P% and WIN%\n",
        "three_point_regression_model = linear_model.LinearRegression()\n",
        " \n",
        "three_point_regression_model.fit(X=pd.DataFrame(nbadf['3P%']),\n",
        "                        y=nbadf[\"WIN%\"])\n",
        "#check model intercept and coefficient\n",
        "print(three_point_regression_model.intercept_)\n",
        "print(three_point_regression_model.coef_)"
      ],
      "metadata": {
        "colab": {
          "base_uri": "https://localhost:8080/"
        },
        "id": "03bHoIvr8GDA",
        "outputId": "9cb7306f-d765-47c2-a4e0-39db2b42d075"
      },
      "execution_count": null,
      "outputs": [
        {
          "output_type": "stream",
          "name": "stdout",
          "text": [
            "-81.18374662729335\n",
            "[3.6987767]\n"
          ]
        }
      ]
    },
    {
      "cell_type": "code",
      "source": [
        "three_point_regression_model.score(X=pd.DataFrame(nbadf['3P%']),\n",
        "                                                  y=nbadf['WIN%'])"
      ],
      "metadata": {
        "colab": {
          "base_uri": "https://localhost:8080/"
        },
        "id": "PZnsufr38qZQ",
        "outputId": "e8654a01-e63a-47a9-fd15-d58d1348bfde"
      },
      "execution_count": null,
      "outputs": [
        {
          "output_type": "execute_result",
          "data": {
            "text/plain": [
              "0.21299787735035602"
            ]
          },
          "metadata": {},
          "execution_count": 119
        }
      ]
    },
    {
      "cell_type": "code",
      "source": [
        "three_point_prediction = three_point_regression_model.predict(pd.DataFrame(nbadf['3P%']))\n",
        "\n",
        "#actual - prediction = residuals\n",
        "three_point_residuals = nbadf['3P%']-three_point_prediction\n",
        "three_point_residuals.describe()"
      ],
      "metadata": {
        "colab": {
          "base_uri": "https://localhost:8080/"
        },
        "id": "AKStcTOL9l6I",
        "outputId": "93dcf2a5-076a-4f8b-ac8c-50d7c357a6b3"
      },
      "execution_count": null,
      "outputs": [
        {
          "output_type": "execute_result",
          "data": {
            "text/plain": [
              "count    617.000000\n",
              "mean     -14.493355\n",
              "std        5.011646\n",
              "min      -31.085364\n",
              "25%      -17.861358\n",
              "50%      -14.352949\n",
              "75%      -11.384294\n",
              "max        1.569834\n",
              "Name: 3P%, dtype: float64"
            ]
          },
          "metadata": {},
          "execution_count": 120
        }
      ]
    },
    {
      "cell_type": "code",
      "source": [
        "plt.scatter(nbadf[\"3P%\"],nbadf[\"WIN%\"])\n",
        "plt.plot(nbadf['3P%'],\n",
        "         three_point_prediction,\n",
        "         color=\"red\")"
      ],
      "metadata": {
        "colab": {
          "base_uri": "https://localhost:8080/",
          "height": 283
        },
        "id": "SVRUVVbr-ZPB",
        "outputId": "281b9d77-8e22-49dd-df1a-013624e8a82b"
      },
      "execution_count": null,
      "outputs": [
        {
          "output_type": "execute_result",
          "data": {
            "text/plain": [
              "[<matplotlib.lines.Line2D at 0x7fd730a13f40>]"
            ]
          },
          "metadata": {},
          "execution_count": 121
        },
        {
          "output_type": "display_data",
          "data": {
            "text/plain": [
              "<Figure size 432x288 with 1 Axes>"
            ],
            "image/png": "[encoded data removed]"
          },
          "metadata": {
            "needs_background": "light"
          }
        }
      ]
    },
    {
      "cell_type": "code",
      "source": [
        "#Developing a linear regression model for FT% and WIN%\n",
        "ft_regression_model = linear_model.LinearRegression()\n",
        "\n",
        "ft_regression_model.fit(X=pd.DataFrame(nbadf['FT%']),\n",
        "                        y=nbadf['WIN%'])\n",
        "print(ft_regression_model.intercept_)\n",
        "print(ft_regression_model.coef_)"
      ],
      "metadata": {
        "colab": {
          "base_uri": "https://localhost:8080/"
        },
        "id": "aV661fUn_LeY",
        "outputId": "7365b4a6-1345-4245-fe3f-fc964833f2fc"
      },
      "execution_count": null,
      "outputs": [
        {
          "output_type": "stream",
          "name": "stdout",
          "text": [
            "0.48667819651230104\n",
            "[0.65137249]\n"
          ]
        }
      ]
    },
    {
      "cell_type": "code",
      "source": [
        "ft_regression_model.score(X=pd.DataFrame(nbadf['FT%']),\n",
        "                          y=nbadf['WIN%'])"
      ],
      "metadata": {
        "colab": {
          "base_uri": "https://localhost:8080/"
        },
        "id": "lhOkt60CCQjD",
        "outputId": "d857688a-50dd-4ec0-a6bd-0296a52ee33b"
      },
      "execution_count": null,
      "outputs": [
        {
          "output_type": "execute_result",
          "data": {
            "text/plain": [
              "0.01628467614801099"
            ]
          },
          "metadata": {},
          "execution_count": 135
        }
      ]
    },
    {
      "cell_type": "code",
      "source": [
        "ft_prediction = ft_regression_model.predict(pd.DataFrame(nbadf['FT%']))\n",
        "plt.scatter(nbadf['FT%'],nbadf['WIN%'])\n",
        "plt.plot(nbadf['FT%'],\n",
        "         ft_prediction,\n",
        "         color=\"red\")"
      ],
      "metadata": {
        "colab": {
          "base_uri": "https://localhost:8080/",
          "height": 283
        },
        "id": "dR-tNVeWAsUy",
        "outputId": "c3f627b4-4f09-4c8f-920c-4bb76735e3ee"
      },
      "execution_count": null,
      "outputs": [
        {
          "output_type": "execute_result",
          "data": {
            "text/plain": [
              "[<matplotlib.lines.Line2D at 0x7fd730e13130>]"
            ]
          },
          "metadata": {},
          "execution_count": 132
        },
        {
          "output_type": "display_data",
          "data": {
            "text/plain": [
              "<Figure size 432x288 with 1 Axes>"
            ],
            "image/png": "[encoded data removed]"
          },
          "metadata": {
            "needs_background": "light"
          }
        }
      ]
    },
    {
      "cell_type": "code",
      "source": [
        "tov_regression_model = linear_model.LinearRegression()\n",
        "tov_regression_model.fit(X=pd.DataFrame(nbadf['TOV']),\n",
        "                         y=nbadf['WIN%'])\n",
        "print(tov_regression_model.intercept_)\n",
        "print(tov_regression_model.coef_)"
      ],
      "metadata": {
        "colab": {
          "base_uri": "https://localhost:8080/"
        },
        "id": "lcGVlW9tBpVd",
        "outputId": "1659941d-82a7-48cd-ddcc-6caacbaecfdc"
      },
      "execution_count": null,
      "outputs": [
        {
          "output_type": "stream",
          "name": "stdout",
          "text": [
            "114.58922761566296\n",
            "[-4.48078431]\n"
          ]
        }
      ]
    },
    {
      "cell_type": "code",
      "source": [
        "tov_regression_model.score(X=pd.DataFrame(nbadf['TOV']),\n",
        "                           y=nbadf['WIN%'])"
      ],
      "metadata": {
        "colab": {
          "base_uri": "https://localhost:8080/"
        },
        "id": "unygVtj8CHoO",
        "outputId": "1f956eff-86cd-4b7b-e4e6-7e618c14790e"
      },
      "execution_count": null,
      "outputs": [
        {
          "output_type": "execute_result",
          "data": {
            "text/plain": [
              "0.11514957457877406"
            ]
          },
          "metadata": {},
          "execution_count": 137
        }
      ]
    },
    {
      "cell_type": "code",
      "source": [
        "tov_prediction = tov_regression_model.predict(pd.DataFrame(nbadf['TOV']))\n",
        "plt.scatter(nbadf['TOV'],nbadf['WIN%'])\n",
        "plt.plot(nbadf[\"TOV\"],\n",
        "         tov_prediction,\n",
        "         color=\"red\")"
      ],
      "metadata": {
        "colab": {
          "base_uri": "https://localhost:8080/",
          "height": 283
        },
        "id": "kiK1cdVfDMa3",
        "outputId": "d6aaa447-e9df-43e0-bdf4-d7e9e2c37ae1"
      },
      "execution_count": null,
      "outputs": [
        {
          "output_type": "execute_result",
          "data": {
            "text/plain": [
              "[<matplotlib.lines.Line2D at 0x7fd7310c4f70>]"
            ]
          },
          "metadata": {},
          "execution_count": 138
        },
        {
          "output_type": "display_data",
          "data": {
            "text/plain": [
              "<Figure size 432x288 with 1 Axes>"
            ],
            "image/png": "[encoded data removed]"
          },
          "metadata": {
            "needs_background": "light"
          }
        }
      ]
    },
    {
      "cell_type": "markdown",
      "source": [
        "Does a linear model appear to be the best model to use for the relationship between the outcome variable and each predictor variable? Explain.\n",
        "I don't believe a linear model is the best model to use for these relationsips because no value seems to have a deciding impact on WIN%. Even after eliminating a few outliers, FG% had the strongest R**2 at merely .32. This is proof the linear model would not be a good fit. The data points are too scattered and show little collinearity."
      ],
      "metadata": {
        "id": "AUbtyGlD2pJn"
      }
    },
    {
      "cell_type": "code",
      "source": [
        "#Subset the data into a training subset and a testing subset\n",
        "import pandas as pd\n",
        "import numpy as np\n",
        "nbadf=pd.read_csv(\"/content/nba team stats.csv\")\n",
        "nbadf.head()"
      ],
      "metadata": {
        "id": "RxLwRySa-8dO",
        "colab": {
          "base_uri": "https://localhost:8080/",
          "height": 206
        },
        "outputId": "653769bd-492c-44b8-ed1d-70590d8be476"
      },
      "execution_count": null,
      "outputs": [
        {
          "output_type": "execute_result",
          "data": {
            "text/plain": [
              "   ID                   TEAM  WIN%   FG%   3P%   FT%   TOV   SEASON\n",
              "0   0           Phoenix Suns  80.8  47.8  36.3  79.1  13.3  2020-21\n",
              "1   1  Golden State Warriors  75.5  46.7  36.4  76.4  15.6  2020-21\n",
              "2   2      Memphis Grizzlies  67.3  45.7  33.9  73.7  13.3  2020-21\n",
              "3   3             Miami Heat  63.0  45.9  37.5  81.5  14.9  2020-21\n",
              "4   4          Chicago Bulls  62.3  47.8  37.2  81.4  13.0  2020-21"
            ],
            "text/html": [
              "\n",
              "  <div id=\"df-2e2fbb40-f841-40f1-8c13-93af41aaf270\">\n",
              "    <div class=\"colab-df-container\">\n",
              "      <div>\n",
              "<style scoped>\n",
              "    .dataframe tbody tr th:only-of-type {\n",
              "        vertical-align: middle;\n",
              "    }\n",
              "\n",
              "    .dataframe tbody tr th {\n",
              "        vertical-align: top;\n",
              "    }\n",
              "\n",
              "    .dataframe thead th {\n",
              "        text-align: right;\n",
              "    }\n",
              "</style>\n",
              "<table border=\"1\" class=\"dataframe\">\n",
              "  <thead>\n",
              "    <tr style=\"text-align: right;\">\n",
              "      <th></th>\n",
              "      <th>ID</th>\n",
              "      <th>TEAM</th>\n",
              "      <th>WIN%</th>\n",
              "      <th>FG%</th>\n",
              "      <th>3P%</th>\n",
              "      <th>FT%</th>\n",
              "      <th>TOV</th>\n",
              "      <th>SEASON</th>\n",
              "    </tr>\n",
              "  </thead>\n",
              "  <tbody>\n",
              "    <tr>\n",
              "      <th>0</th>\n",
              "      <td>0</td>\n",
              "      <td>Phoenix Suns</td>\n",
              "      <td>80.8</td>\n",
              "      <td>47.8</td>\n",
              "      <td>36.3</td>\n",
              "      <td>79.1</td>\n",
              "      <td>13.3</td>\n",
              "      <td>2020-21</td>\n",
              "    </tr>\n",
              "    <tr>\n",
              "      <th>1</th>\n",
              "      <td>1</td>\n",
              "      <td>Golden State Warriors</td>\n",
              "      <td>75.5</td>\n",
              "      <td>46.7</td>\n",
              "      <td>36.4</td>\n",
              "      <td>76.4</td>\n",
              "      <td>15.6</td>\n",
              "      <td>2020-21</td>\n",
              "    </tr>\n",
              "    <tr>\n",
              "      <th>2</th>\n",
              "      <td>2</td>\n",
              "      <td>Memphis Grizzlies</td>\n",
              "      <td>67.3</td>\n",
              "      <td>45.7</td>\n",
              "      <td>33.9</td>\n",
              "      <td>73.7</td>\n",
              "      <td>13.3</td>\n",
              "      <td>2020-21</td>\n",
              "    </tr>\n",
              "    <tr>\n",
              "      <th>3</th>\n",
              "      <td>3</td>\n",
              "      <td>Miami Heat</td>\n",
              "      <td>63.0</td>\n",
              "      <td>45.9</td>\n",
              "      <td>37.5</td>\n",
              "      <td>81.5</td>\n",
              "      <td>14.9</td>\n",
              "      <td>2020-21</td>\n",
              "    </tr>\n",
              "    <tr>\n",
              "      <th>4</th>\n",
              "      <td>4</td>\n",
              "      <td>Chicago Bulls</td>\n",
              "      <td>62.3</td>\n",
              "      <td>47.8</td>\n",
              "      <td>37.2</td>\n",
              "      <td>81.4</td>\n",
              "      <td>13.0</td>\n",
              "      <td>2020-21</td>\n",
              "    </tr>\n",
              "  </tbody>\n",
              "</table>\n",
              "</div>\n",
              "      <button class=\"colab-df-convert\" onclick=\"convertToInteractive('df-2e2fbb40-f841-40f1-8c13-93af41aaf270')\"\n",
              "              title=\"Convert this dataframe to an interactive table.\"\n",
              "              style=\"display:none;\">\n",
              "        \n",
              "  <svg xmlns=\"http://www.w3.org/2000/svg\" height=\"24px\"viewBox=\"0 0 24 24\"\n",
              "       width=\"24px\">\n",
              "    <path d=\"M0 0h24v24H0V0z\" fill=\"none\"/>\n",
              "    <path d=\"M18.56 5.44l.94 2.06.94-2.06 2.06-.94-2.06-.94-.94-2.06-.94 2.06-2.06.94zm-11 1L8.5 8.5l.94-2.06 2.06-.94-2.06-.94L8.5 2.5l-.94 2.06-2.06.94zm10 10l.94 2.06.94-2.06 2.06-.94-2.06-.94-.94-2.06-.94 2.06-2.06.94z\"/><path d=\"M17.41 7.96l-1.37-1.37c-.4-.4-.92-.59-1.43-.59-.52 0-1.04.2-1.43.59L10.3 9.45l-7.72 7.72c-.78.78-.78 2.05 0 2.83L4 21.41c.39.39.9.59 1.41.59.51 0 1.02-.2 1.41-.59l7.78-7.78 2.81-2.81c.8-.78.8-2.07 0-2.86zM5.41 20L4 18.59l7.72-7.72 1.47 1.35L5.41 20z\"/>\n",
              "  </svg>\n",
              "      </button>\n",
              "      \n",
              "  <style>\n",
              "    .colab-df-container {\n",
              "      display:flex;\n",
              "      flex-wrap:wrap;\n",
              "      gap: 12px;\n",
              "    }\n",
              "\n",
              "    .colab-df-convert {\n",
              "      background-color: #E8F0FE;\n",
              "      border: none;\n",
              "      border-radius: 50%;\n",
              "      cursor: pointer;\n",
              "      display: none;\n",
              "      fill: #1967D2;\n",
              "      height: 32px;\n",
              "      padding: 0 0 0 0;\n",
              "      width: 32px;\n",
              "    }\n",
              "\n",
              "    .colab-df-convert:hover {\n",
              "      background-color: #E2EBFA;\n",
              "      box-shadow: 0px 1px 2px rgba(60, 64, 67, 0.3), 0px 1px 3px 1px rgba(60, 64, 67, 0.15);\n",
              "      fill: #174EA6;\n",
              "    }\n",
              "\n",
              "    [theme=dark] .colab-df-convert {\n",
              "      background-color: #3B4455;\n",
              "      fill: #D2E3FC;\n",
              "    }\n",
              "\n",
              "    [theme=dark] .colab-df-convert:hover {\n",
              "      background-color: #434B5C;\n",
              "      box-shadow: 0px 1px 3px 1px rgba(0, 0, 0, 0.15);\n",
              "      filter: drop-shadow(0px 1px 2px rgba(0, 0, 0, 0.3));\n",
              "      fill: #FFFFFF;\n",
              "    }\n",
              "  </style>\n",
              "\n",
              "      <script>\n",
              "        const buttonEl =\n",
              "          document.querySelector('#df-2e2fbb40-f841-40f1-8c13-93af41aaf270 button.colab-df-convert');\n",
              "        buttonEl.style.display =\n",
              "          google.colab.kernel.accessAllowed ? 'block' : 'none';\n",
              "\n",
              "        async function convertToInteractive(key) {\n",
              "          const element = document.querySelector('#df-2e2fbb40-f841-40f1-8c13-93af41aaf270');\n",
              "          const dataTable =\n",
              "            await google.colab.kernel.invokeFunction('convertToInteractive',\n",
              "                                                     [key], {});\n",
              "          if (!dataTable) return;\n",
              "\n",
              "          const docLinkHtml = 'Like what you see? Visit the ' +\n",
              "            '<a target=\"_blank\" href=https://colab.research.google.com/notebooks/data_table.ipynb>data table notebook</a>'\n",
              "            + ' to learn more about interactive tables.';\n",
              "          element.innerHTML = '';\n",
              "          dataTable['output_type'] = 'display_data';\n",
              "          await google.colab.output.renderOutput(dataTable, element);\n",
              "          const docLink = document.createElement('div');\n",
              "          docLink.innerHTML = docLinkHtml;\n",
              "          element.appendChild(docLink);\n",
              "        }\n",
              "      </script>\n",
              "    </div>\n",
              "  </div>\n",
              "  "
            ]
          },
          "metadata": {},
          "execution_count": 5
        }
      ]
    },
    {
      "cell_type": "code",
      "source": [
        "a=np.random.randn(len(nbadf))\n",
        "check=a<0.8\n",
        "nba_training=nbadf[check]\n",
        "nba_test=nbadf[~check]\n",
        "len(nba_training)"
      ],
      "metadata": {
        "colab": {
          "base_uri": "https://localhost:8080/"
        },
        "id": "SNWEaoJ7LXz1",
        "outputId": "6f3bf3fd-a970-4278-e3c6-32cc8b7fd9b2"
      },
      "execution_count": null,
      "outputs": [
        {
          "output_type": "execute_result",
          "data": {
            "text/plain": [
              "499"
            ]
          },
          "metadata": {},
          "execution_count": 46
        }
      ]
    },
    {
      "cell_type": "code",
      "source": [
        "#Use the training subset to build a multiple linear regression model for the outcome variable using all four predictor variables \n",
        "from sklearn import linear_model\n",
        "X=nba_training[[\"FG%\",\"3P%\",\"FG%\",\"TOV\"]]\n",
        "y=nba_training[\"WIN%\"]\n",
        "nba_train_regr=linear_model.LinearRegression()\n",
        "nba_train_regr.fit(X,y)\n",
        "print(nba_train_regr.intercept_)\n",
        "print(nba_train_regr.coef_)"
      ],
      "metadata": {
        "id": "KF3S868Nywu1",
        "colab": {
          "base_uri": "https://localhost:8080/"
        },
        "outputId": "ecfb6e77-b81e-42cc-987e-2df5f0ca3fd2"
      },
      "execution_count": null,
      "outputs": [
        {
          "output_type": "stream",
          "name": "stdout",
          "text": [
            "-145.0431582379341\n",
            "[ 2.1178152   1.38867745  2.1178152  -3.20070098]\n"
          ]
        }
      ]
    },
    {
      "cell_type": "code",
      "source": [
        "#R**2\n",
        "nba_train_regr.score(X=X,\n",
        "                     y=nba_training['WIN%'])"
      ],
      "metadata": {
        "colab": {
          "base_uri": "https://localhost:8080/"
        },
        "id": "jX7nnQ9bP2uH",
        "outputId": "6436543d-88fb-4c09-f950-09ea44cbfbc4"
      },
      "execution_count": null,
      "outputs": [
        {
          "output_type": "execute_result",
          "data": {
            "text/plain": [
              "0.4369838429424201"
            ]
          },
          "metadata": {},
          "execution_count": 49
        }
      ]
    },
    {
      "cell_type": "code",
      "source": [
        "#Renaming variables to remove % symbol\n",
        "import statsmodels.formula.api as smf\n",
        "nba_training.rename(columns={\"WIN%\":\"WINpct\",\"3P%\":\"ThreePpct\",\"FG%\":\"FGpct\",\"FT%\":\"FTpct\"}, inplace=True)"
      ],
      "metadata": {
        "id": "a8P70WbGVCWR"
      },
      "execution_count": null,
      "outputs": []
    },
    {
      "cell_type": "code",
      "source": [
        "train=smf.ols(formula=\"WINpct~ThreePpct+FGpct+FTpct+TOV\",data=nba_training).fit()\n",
        "train.params"
      ],
      "metadata": {
        "colab": {
          "base_uri": "https://localhost:8080/"
        },
        "id": "t_Yf5xN4bkDc",
        "outputId": "8e0df2b7-4cd8-45ba-a77d-5537555e0ec1"
      },
      "execution_count": null,
      "outputs": [
        {
          "output_type": "execute_result",
          "data": {
            "text/plain": [
              "Intercept   -131.219374\n",
              "ThreePpct      1.434554\n",
              "FGpct          4.256940\n",
              "FTpct         -0.197147\n",
              "TOV           -3.300571\n",
              "dtype: float64"
            ]
          },
          "metadata": {},
          "execution_count": 53
        }
      ]
    },
    {
      "cell_type": "code",
      "source": [
        "win_mean=np.mean(nba_training['WINpct'])\n",
        "win_mean"
      ],
      "metadata": {
        "colab": {
          "base_uri": "https://localhost:8080/"
        },
        "id": "yz2U4_ABdEfs",
        "outputId": "0836152f-717c-42b1-b2ab-44afb29bc862"
      },
      "execution_count": null,
      "outputs": [
        {
          "output_type": "execute_result",
          "data": {
            "text/plain": [
              "50.074549098196385"
            ]
          },
          "metadata": {},
          "execution_count": 80
        }
      ]
    },
    {
      "cell_type": "code",
      "source": [
        "#Calculating RSE to determine efficiency\n",
        "nba_training[\"WINpct_pred\"]=-131.22+1.43*nba_training[\"ThreePpct\"]+4.26*nba_training[\"FGpct\"]+-0.2*nba_training[\"FTpct\"]+-3.3*nba_training[\"TOV\"]\n",
        "nba_training[\"RSE\"]=(nba_training[\"WINpct\"]-nba_training[\"WINpct_pred\"])**2\n",
        "RSEd=nba_training.sum()[\"RSE\"]\n",
        "RSE=np.sqrt(RSEd/494)\n",
        "RSE"
      ],
      "metadata": {
        "colab": {
          "base_uri": "https://localhost:8080/"
        },
        "id": "LkFz_iC9kNxp",
        "outputId": "4c88b1d2-f2cf-4edb-b297-52a67e1ec9e6"
      },
      "execution_count": null,
      "outputs": [
        {
          "output_type": "stream",
          "name": "stderr",
          "text": [
            "<ipython-input-78-e28fc85dab4d>:2: SettingWithCopyWarning: \n",
            "A value is trying to be set on a copy of a slice from a DataFrame.\n",
            "Try using .loc[row_indexer,col_indexer] = value instead\n",
            "\n",
            "See the caveats in the documentation: https://pandas.pydata.org/pandas-docs/stable/user_guide/indexing.html#returning-a-view-versus-a-copy\n",
            "  nba_training[\"WINpct_pred\"]=-131.22+1.43*nba_training[\"ThreePpct\"]+4.26*nba_training[\"FGpct\"]+-0.2*nba_training[\"FTpct\"]+-3.3*nba_training[\"TOV\"]\n",
            "<ipython-input-78-e28fc85dab4d>:3: SettingWithCopyWarning: \n",
            "A value is trying to be set on a copy of a slice from a DataFrame.\n",
            "Try using .loc[row_indexer,col_indexer] = value instead\n",
            "\n",
            "See the caveats in the documentation: https://pandas.pydata.org/pandas-docs/stable/user_guide/indexing.html#returning-a-view-versus-a-copy\n",
            "  nba_training[\"RSE\"]=(nba_training[\"WINpct\"]-nba_training[\"WINpct_pred\"])**2\n"
          ]
        },
        {
          "output_type": "execute_result",
          "data": {
            "text/plain": [
              "11.36196562217978"
            ]
          },
          "metadata": {},
          "execution_count": 78
        }
      ]
    },
    {
      "cell_type": "code",
      "source": [
        "RSE/win_mean"
      ],
      "metadata": {
        "colab": {
          "base_uri": "https://localhost:8080/"
        },
        "id": "IG3cGOM6obJ3",
        "outputId": "50916e0c-8bc7-4b4b-930f-e64012f7b0f8"
      },
      "execution_count": null,
      "outputs": [
        {
          "output_type": "execute_result",
          "data": {
            "text/plain": [
              "0.22690100713436123"
            ]
          },
          "metadata": {},
          "execution_count": 81
        }
      ]
    },
    {
      "cell_type": "code",
      "source": [
        "print(train.summary())"
      ],
      "metadata": {
        "colab": {
          "base_uri": "https://localhost:8080/"
        },
        "id": "thYTovqYeNqd",
        "outputId": "f7bd34cd-ddf4-422d-f00f-c758c62a7c9d"
      },
      "execution_count": null,
      "outputs": [
        {
          "output_type": "stream",
          "name": "stdout",
          "text": [
            "                            OLS Regression Results                            \n",
            "==============================================================================\n",
            "Dep. Variable:                 WINpct   R-squared:                       0.438\n",
            "Model:                            OLS   Adj. R-squared:                  0.434\n",
            "Method:                 Least Squares   F-statistic:                     96.37\n",
            "Date:                Thu, 09 Feb 2023   Prob (F-statistic):           1.46e-60\n",
            "Time:                        19:23:04   Log-Likelihood:                -1918.1\n",
            "No. Observations:                 499   AIC:                             3846.\n",
            "Df Residuals:                     494   BIC:                             3867.\n",
            "Df Model:                           4                                         \n",
            "Covariance Type:            nonrobust                                         \n",
            "==============================================================================\n",
            "                 coef    std err          t      P>|t|      [0.025      0.975]\n",
            "------------------------------------------------------------------------------\n",
            "Intercept   -131.2194     21.428     -6.124      0.000    -173.320     -89.119\n",
            "ThreePpct      1.4346      0.330      4.345      0.000       0.786       2.083\n",
            "FGpct          4.2569      0.392     10.849      0.000       3.486       5.028\n",
            "FTpct         -0.1971      0.183     -1.079      0.281      -0.556       0.162\n",
            "TOV           -3.3006      0.473     -6.980      0.000      -4.230      -2.371\n",
            "==============================================================================\n",
            "Omnibus:                        4.846   Durbin-Watson:                   0.930\n",
            "Prob(Omnibus):                  0.089   Jarque-Bera (JB):                3.422\n",
            "Skew:                          -0.004   Prob(JB):                        0.181\n",
            "Kurtosis:                       2.594   Cond. No.                     4.06e+03\n",
            "==============================================================================\n",
            "\n",
            "Notes:\n",
            "[1] Standard Errors assume that the covariance matrix of the errors is correctly specified.\n",
            "[2] The condition number is large, 4.06e+03. This might indicate that there are\n",
            "strong multicollinearity or other numerical problems.\n"
          ]
        }
      ]
    },
    {
      "cell_type": "code",
      "source": [
        "train.pvalues"
      ],
      "metadata": {
        "colab": {
          "base_uri": "https://localhost:8080/"
        },
        "id": "pT8SJ9Bjsygv",
        "outputId": "adf9cc2f-97b7-4b98-ac94-f4f7f111b701"
      },
      "execution_count": null,
      "outputs": [
        {
          "output_type": "execute_result",
          "data": {
            "text/plain": [
              "Intercept    1.865187e-09\n",
              "ThreePpct    1.694333e-05\n",
              "FGpct        9.622208e-25\n",
              "FTpct        2.811453e-01\n",
              "TOV          9.565547e-12\n",
              "dtype: float64"
            ]
          },
          "metadata": {},
          "execution_count": 82
        }
      ]
    },
    {
      "cell_type": "code",
      "source": [
        "from sklearn.metrics import mean_squared_error\n",
        "X=nba_training[[\"ThreePpct\",\"FGpct\",\"FTpct\",\"TOV\"]]\n",
        "y=nba_training[[\"WINpct\"]]\n",
        "y"
      ],
      "metadata": {
        "colab": {
          "base_uri": "https://localhost:8080/",
          "height": 424
        },
        "id": "Hwh-hxt31yuy",
        "outputId": "4c9fb874-ca2a-47a7-ecd9-3379087804e7"
      },
      "execution_count": null,
      "outputs": [
        {
          "output_type": "execute_result",
          "data": {
            "text/plain": [
              "     WINpct\n",
              "0      80.8\n",
              "1      75.5\n",
              "2      67.3\n",
              "3      63.0\n",
              "4      62.3\n",
              "..      ...\n",
              "619    36.6\n",
              "620    31.7\n",
              "621    30.5\n",
              "623    23.2\n",
              "624    20.7\n",
              "\n",
              "[499 rows x 1 columns]"
            ],
            "text/html": [
              "\n",
              "  <div id=\"df-55136180-bffd-4cec-83c9-25a12b9c1035\">\n",
              "    <div class=\"colab-df-container\">\n",
              "      <div>\n",
              "<style scoped>\n",
              "    .dataframe tbody tr th:only-of-type {\n",
              "        vertical-align: middle;\n",
              "    }\n",
              "\n",
              "    .dataframe tbody tr th {\n",
              "        vertical-align: top;\n",
              "    }\n",
              "\n",
              "    .dataframe thead th {\n",
              "        text-align: right;\n",
              "    }\n",
              "</style>\n",
              "<table border=\"1\" class=\"dataframe\">\n",
              "  <thead>\n",
              "    <tr style=\"text-align: right;\">\n",
              "      <th></th>\n",
              "      <th>WINpct</th>\n",
              "    </tr>\n",
              "  </thead>\n",
              "  <tbody>\n",
              "    <tr>\n",
              "      <th>0</th>\n",
              "      <td>80.8</td>\n",
              "    </tr>\n",
              "    <tr>\n",
              "      <th>1</th>\n",
              "      <td>75.5</td>\n",
              "    </tr>\n",
              "    <tr>\n",
              "      <th>2</th>\n",
              "      <td>67.3</td>\n",
              "    </tr>\n",
              "    <tr>\n",
              "      <th>3</th>\n",
              "      <td>63.0</td>\n",
              "    </tr>\n",
              "    <tr>\n",
              "      <th>4</th>\n",
              "      <td>62.3</td>\n",
              "    </tr>\n",
              "    <tr>\n",
              "      <th>...</th>\n",
              "      <td>...</td>\n",
              "    </tr>\n",
              "    <tr>\n",
              "      <th>619</th>\n",
              "      <td>36.6</td>\n",
              "    </tr>\n",
              "    <tr>\n",
              "      <th>620</th>\n",
              "      <td>31.7</td>\n",
              "    </tr>\n",
              "    <tr>\n",
              "      <th>621</th>\n",
              "      <td>30.5</td>\n",
              "    </tr>\n",
              "    <tr>\n",
              "      <th>623</th>\n",
              "      <td>23.2</td>\n",
              "    </tr>\n",
              "    <tr>\n",
              "      <th>624</th>\n",
              "      <td>20.7</td>\n",
              "    </tr>\n",
              "  </tbody>\n",
              "</table>\n",
              "<p>499 rows × 1 columns</p>\n",
              "</div>\n",
              "      <button class=\"colab-df-convert\" onclick=\"convertToInteractive('df-55136180-bffd-4cec-83c9-25a12b9c1035')\"\n",
              "              title=\"Convert this dataframe to an interactive table.\"\n",
              "              style=\"display:none;\">\n",
              "        \n",
              "  <svg xmlns=\"http://www.w3.org/2000/svg\" height=\"24px\"viewBox=\"0 0 24 24\"\n",
              "       width=\"24px\">\n",
              "    <path d=\"M0 0h24v24H0V0z\" fill=\"none\"/>\n",
              "    <path d=\"M18.56 5.44l.94 2.06.94-2.06 2.06-.94-2.06-.94-.94-2.06-.94 2.06-2.06.94zm-11 1L8.5 8.5l.94-2.06 2.06-.94-2.06-.94L8.5 2.5l-.94 2.06-2.06.94zm10 10l.94 2.06.94-2.06 2.06-.94-2.06-.94-.94-2.06-.94 2.06-2.06.94z\"/><path d=\"M17.41 7.96l-1.37-1.37c-.4-.4-.92-.59-1.43-.59-.52 0-1.04.2-1.43.59L10.3 9.45l-7.72 7.72c-.78.78-.78 2.05 0 2.83L4 21.41c.39.39.9.59 1.41.59.51 0 1.02-.2 1.41-.59l7.78-7.78 2.81-2.81c.8-.78.8-2.07 0-2.86zM5.41 20L4 18.59l7.72-7.72 1.47 1.35L5.41 20z\"/>\n",
              "  </svg>\n",
              "      </button>\n",
              "      \n",
              "  <style>\n",
              "    .colab-df-container {\n",
              "      display:flex;\n",
              "      flex-wrap:wrap;\n",
              "      gap: 12px;\n",
              "    }\n",
              "\n",
              "    .colab-df-convert {\n",
              "      background-color: #E8F0FE;\n",
              "      border: none;\n",
              "      border-radius: 50%;\n",
              "      cursor: pointer;\n",
              "      display: none;\n",
              "      fill: #1967D2;\n",
              "      height: 32px;\n",
              "      padding: 0 0 0 0;\n",
              "      width: 32px;\n",
              "    }\n",
              "\n",
              "    .colab-df-convert:hover {\n",
              "      background-color: #E2EBFA;\n",
              "      box-shadow: 0px 1px 2px rgba(60, 64, 67, 0.3), 0px 1px 3px 1px rgba(60, 64, 67, 0.15);\n",
              "      fill: #174EA6;\n",
              "    }\n",
              "\n",
              "    [theme=dark] .colab-df-convert {\n",
              "      background-color: #3B4455;\n",
              "      fill: #D2E3FC;\n",
              "    }\n",
              "\n",
              "    [theme=dark] .colab-df-convert:hover {\n",
              "      background-color: #434B5C;\n",
              "      box-shadow: 0px 1px 3px 1px rgba(0, 0, 0, 0.15);\n",
              "      filter: drop-shadow(0px 1px 2px rgba(0, 0, 0, 0.3));\n",
              "      fill: #FFFFFF;\n",
              "    }\n",
              "  </style>\n",
              "\n",
              "      <script>\n",
              "        const buttonEl =\n",
              "          document.querySelector('#df-55136180-bffd-4cec-83c9-25a12b9c1035 button.colab-df-convert');\n",
              "        buttonEl.style.display =\n",
              "          google.colab.kernel.accessAllowed ? 'block' : 'none';\n",
              "\n",
              "        async function convertToInteractive(key) {\n",
              "          const element = document.querySelector('#df-55136180-bffd-4cec-83c9-25a12b9c1035');\n",
              "          const dataTable =\n",
              "            await google.colab.kernel.invokeFunction('convertToInteractive',\n",
              "                                                     [key], {});\n",
              "          if (!dataTable) return;\n",
              "\n",
              "          const docLinkHtml = 'Like what you see? Visit the ' +\n",
              "            '<a target=\"_blank\" href=https://colab.research.google.com/notebooks/data_table.ipynb>data table notebook</a>'\n",
              "            + ' to learn more about interactive tables.';\n",
              "          element.innerHTML = '';\n",
              "          dataTable['output_type'] = 'display_data';\n",
              "          await google.colab.output.renderOutput(dataTable, element);\n",
              "          const docLink = document.createElement('div');\n",
              "          docLink.innerHTML = docLinkHtml;\n",
              "          element.appendChild(docLink);\n",
              "        }\n",
              "      </script>\n",
              "    </div>\n",
              "  </div>\n",
              "  "
            ]
          },
          "metadata": {},
          "execution_count": 92
        }
      ]
    },
    {
      "cell_type": "code",
      "source": [
        "MSE = mean_squared_error(y,train.predict(X))\n",
        "MSE"
      ],
      "metadata": {
        "colab": {
          "base_uri": "https://localhost:8080/"
        },
        "id": "pAArVrRY6VpU",
        "outputId": "672d1f12-bf4b-4b82-a0c9-bd7282c5c7f1"
      },
      "execution_count": null,
      "outputs": [
        {
          "output_type": "execute_result",
          "data": {
            "text/plain": [
              "127.74688148725222"
            ]
          },
          "metadata": {},
          "execution_count": 94
        }
      ]
    },
    {
      "cell_type": "code",
      "source": [
        "RMSE = np.sqrt(MSE)\n",
        "RMSE"
      ],
      "metadata": {
        "colab": {
          "base_uri": "https://localhost:8080/"
        },
        "id": "Kiz1VCCU6i71",
        "outputId": "4c065289-6bd6-4f5d-b9a6-769d8bef07b4"
      },
      "execution_count": null,
      "outputs": [
        {
          "output_type": "execute_result",
          "data": {
            "text/plain": [
              "11.30251659973354"
            ]
          },
          "metadata": {},
          "execution_count": 95
        }
      ]
    },
    {
      "cell_type": "markdown",
      "source": [
        "Assess the fit of the model.\n",
        "\n",
        "1.   Is the model statistically significant?\n",
        "  Response: The F-statistic for the model was very high and the pvalues were negligible suggesting the parameters for the model were statistically significant and non-0.\n",
        "2.   How much variance does the model explain overall?\n",
        "  Response: R**2 comes out to .438 which would suggest an existing correlation between all variables and predictor output, albeit not a strong one.\n",
        "3. What was the Root Mean Square Error of the model?\n",
        "  Response: The RSE came out to 11.3 which translated to roughly 22.7%.\n",
        "\n"
      ],
      "metadata": {
        "id": "-8xppKTu3xJb"
      }
    },
    {
      "cell_type": "markdown",
      "source": [
        "Report and interpret the model intercept and each coefficient along with whether each is a significant predictor in the model.\n",
        "\n",
        "\n",
        "1.   Intercept: -131.22--not a significant predictor\n",
        "2.   Coefficient for FG%: 4.26--a relatively significant predictor\n",
        "3. Coefficent for 3p%: 1.43--a small predictor\n",
        "4. Coefficient FT%:-.2--an insignificant predictor\n",
        "5. Coefficient for TOV:-3.3--a relatively significant predictor\n"
      ],
      "metadata": {
        "id": "al8zuuG_5gjG"
      }
    },
    {
      "cell_type": "markdown",
      "source": [
        "You do not necessarily need to do it for this assignment, but if you were building a model to deploy professionally, what would you do upon finding one or more of the predictor variables to have no effect on the outcome variable in the model (i.e., the coefficient for the predictor variable is not significant or may be = 0)?"
      ],
      "metadata": {
        "id": "o8NfHJg_GH1b"
      }
    },
    {
      "cell_type": "code",
      "source": [
        "#Assess any potential issues with multicollinearity amongst the predictor variables\n",
        "fg=smf.ols(formula=\"FGpct~ThreePpct+FTpct+TOV\",data=nba_training).fit()\n",
        "rsquared=fg.rsquared\n",
        "VIF=1/(1-rsquared)\n",
        "VIF"
      ],
      "metadata": {
        "id": "Gp-NZiMcBN_E",
        "colab": {
          "base_uri": "https://localhost:8080/"
        },
        "outputId": "c530d733-c49a-47fa-8173-0a6237177fed"
      },
      "execution_count": null,
      "outputs": [
        {
          "output_type": "execute_result",
          "data": {
            "text/plain": [
              "1.4985462398166063"
            ]
          },
          "metadata": {},
          "execution_count": 96
        }
      ]
    },
    {
      "cell_type": "code",
      "source": [
        "fg=smf.ols(formula=\"ThreePpct~FGpct+ThreePpct+FTpct+TOV\",data=nba_training).fit()\n",
        "rsquared=fg.rsquared\n",
        "VIF=1/(1-rsquared)\n",
        "VIF"
      ],
      "metadata": {
        "colab": {
          "base_uri": "https://localhost:8080/"
        },
        "id": "HILUWIBD_DOL",
        "outputId": "116ae804-e44a-4746-c0dc-a56308db4bdd"
      },
      "execution_count": null,
      "outputs": [
        {
          "output_type": "stream",
          "name": "stderr",
          "text": [
            "<ipython-input-104-e4d62b690087>:3: RuntimeWarning: divide by zero encountered in double_scalars\n",
            "  VIF=1/(1-rsquared)\n"
          ]
        },
        {
          "output_type": "execute_result",
          "data": {
            "text/plain": [
              "inf"
            ]
          },
          "metadata": {},
          "execution_count": 104
        }
      ]
    },
    {
      "cell_type": "code",
      "source": [
        "fg=smf.ols(formula=\"FTpct~FGpct+ThreePpct+TOV\",data=nba_training).fit()\n",
        "rsquared=fg.rsquared\n",
        "VIF=1/(1-rsquared)\n",
        "VIF"
      ],
      "metadata": {
        "colab": {
          "base_uri": "https://localhost:8080/"
        },
        "id": "wLPHrjF6_UUs",
        "outputId": "9c01b19a-ec37-498a-cf11-c84514b55eaf"
      },
      "execution_count": null,
      "outputs": [
        {
          "output_type": "execute_result",
          "data": {
            "text/plain": [
              "1.1083731347243766"
            ]
          },
          "metadata": {},
          "execution_count": 102
        }
      ]
    },
    {
      "cell_type": "code",
      "source": [
        "fg=smf.ols(formula=\"TOV~FGpct+ThreePpct+FTpct\",data=nba_training).fit()\n",
        "rsquared=fg.rsquared\n",
        "VIF=1/(1-rsquared)\n",
        "VIF"
      ],
      "metadata": {
        "colab": {
          "base_uri": "https://localhost:8080/"
        },
        "id": "QBotS0aLAXAY",
        "outputId": "35af8cc6-6f74-4121-da15-a65dd916e9cc"
      },
      "execution_count": null,
      "outputs": [
        {
          "output_type": "execute_result",
          "data": {
            "text/plain": [
              "1.1307819102386207"
            ]
          },
          "metadata": {},
          "execution_count": 103
        }
      ]
    },
    {
      "cell_type": "markdown",
      "source": [
        "Were there any issues with multicollinearity in the model? Explain. The multicollinearity for 3P% was infinity meaning there is a perfect correlation and, going forward, could be dropped from the model. All other predictor variables slightly ranged in correlation."
      ],
      "metadata": {
        "id": "eXt_E-54BUYu"
      }
    },
    {
      "cell_type": "code",
      "source": [
        "#Validate the model you built on the training data subset using the testing data subset\n",
        "win_pred=train.predict(nba_training[[\"ThreePpct\",\"FGpct\",\"FTpct\",\"TOV\"]])\n",
        "win_pred"
      ],
      "metadata": {
        "id": "mizPcE9F4Di_",
        "colab": {
          "base_uri": "https://localhost:8080/"
        },
        "outputId": "f6cc31ff-0308-415a-88c8-ea6431521d3f"
      },
      "execution_count": null,
      "outputs": [
        {
          "output_type": "execute_result",
          "data": {
            "text/plain": [
              "0      64.844729\n",
              "1      53.246536\n",
              "2      53.526821\n",
              "3      52.723942\n",
              "4      66.672561\n",
              "         ...    \n",
              "619    35.310295\n",
              "620    33.989358\n",
              "621    33.385310\n",
              "623    31.066662\n",
              "624    18.524233\n",
              "Length: 499, dtype: float64"
            ]
          },
          "metadata": {},
          "execution_count": 110
        }
      ]
    },
    {
      "cell_type": "code",
      "source": [
        "nba_test.rename(columns={\"WIN%\":\"WINpct\",\"3P%\":\"ThreePpct\",\"FG%\":\"FGpct\",\"FT%\":\"FTpct\"}, inplace=True)"
      ],
      "metadata": {
        "id": "XenNtTRqGuK6"
      },
      "execution_count": null,
      "outputs": []
    },
    {
      "cell_type": "code",
      "source": [
        "nba_test[\"WINpct_pred\"]=-131.22+1.43*nba_test[\"ThreePpct\"]+4.26*nba_test[\"FGpct\"]+-0.2*nba_test[\"FTpct\"]+-3.3*nba_test[\"TOV\"]\n",
        "nba_test[\"RSE\"]=(nba_test[\"WINpct\"]-nba_test[\"WINpct_pred\"])**2\n",
        "RSEd=nba_test.sum()[\"RSE\"]\n",
        "RSE=np.sqrt(RSEd/123)\n",
        "RSE"
      ],
      "metadata": {
        "colab": {
          "base_uri": "https://localhost:8080/"
        },
        "id": "zMVGaWzuFZkq",
        "outputId": "20e2abcb-acb9-4207-da0d-0b6189a6510f"
      },
      "execution_count": null,
      "outputs": [
        {
          "output_type": "stream",
          "name": "stderr",
          "text": [
            "<ipython-input-114-959b553b8da8>:1: SettingWithCopyWarning: \n",
            "A value is trying to be set on a copy of a slice from a DataFrame.\n",
            "Try using .loc[row_indexer,col_indexer] = value instead\n",
            "\n",
            "See the caveats in the documentation: https://pandas.pydata.org/pandas-docs/stable/user_guide/indexing.html#returning-a-view-versus-a-copy\n",
            "  nba_test[\"WINpct_pred\"]=-131.22+1.43*nba_test[\"ThreePpct\"]+4.26*nba_test[\"FGpct\"]+-0.2*nba_test[\"FTpct\"]+-3.3*nba_test[\"TOV\"]\n",
            "<ipython-input-114-959b553b8da8>:2: SettingWithCopyWarning: \n",
            "A value is trying to be set on a copy of a slice from a DataFrame.\n",
            "Try using .loc[row_indexer,col_indexer] = value instead\n",
            "\n",
            "See the caveats in the documentation: https://pandas.pydata.org/pandas-docs/stable/user_guide/indexing.html#returning-a-view-versus-a-copy\n",
            "  nba_test[\"RSE\"]=(nba_test[\"WINpct\"]-nba_test[\"WINpct_pred\"])**2\n"
          ]
        },
        {
          "output_type": "execute_result",
          "data": {
            "text/plain": [
              "11.75126141438732"
            ]
          },
          "metadata": {},
          "execution_count": 114
        }
      ]
    },
    {
      "cell_type": "code",
      "source": [
        "win_test_mean=nba_test[\"WINpct\"].mean()\n",
        "win_test_mean"
      ],
      "metadata": {
        "colab": {
          "base_uri": "https://localhost:8080/"
        },
        "id": "N_CccFOBHsMX",
        "outputId": "dc1bd40d-e594-41b4-d9e0-0afc0ab1e96a"
      },
      "execution_count": null,
      "outputs": [
        {
          "output_type": "execute_result",
          "data": {
            "text/plain": [
              "49.59606299212599"
            ]
          },
          "metadata": {},
          "execution_count": 115
        }
      ]
    },
    {
      "cell_type": "markdown",
      "source": [
        "Report the model validation. Does the model seem to have any issues with over fitting? Explain. The RSE values came out to be very similar with 22% and 23% respectively. This implies the training model is a pretty good fit over the testing data."
      ],
      "metadata": {
        "id": "MkUD7dj6BdBW"
      }
    },
    {
      "cell_type": "markdown",
      "source": [
        "Does the model seem to meet all of the assumptions of a linear regression model? Explain. As seen below the residuals seem to have a slight symmetrical distribution and, thus, shows room for improvement in the model as opposed to being randomly distributed."
      ],
      "metadata": {
        "id": "ox5FaUj-B_ie"
      }
    },
    {
      "cell_type": "code",
      "source": [
        "from scipy import stats\n",
        "win_prediction=nba_train_regr.predict(X=X)\n",
        "residuals=nba_training[\"WINpct\"]-win_prediction\n",
        "stats.probplot(residuals, dist=\"norm\", plot=plt)"
      ],
      "metadata": {
        "colab": {
          "base_uri": "https://localhost:8080/",
          "height": 1000
        },
        "id": "PTG7ien3KzvN",
        "outputId": "1319ad68-ea23-4a49-a76e-7fa59fefd050"
      },
      "execution_count": null,
      "outputs": [
        {
          "output_type": "stream",
          "name": "stderr",
          "text": [
            "/usr/local/lib/python3.8/dist-packages/sklearn/base.py:493: FutureWarning: The feature names should match those that were passed during fit. Starting version 1.2, an error will be raised.\n",
            "Feature names unseen at fit time:\n",
            "- FGpct\n",
            "- FTpct\n",
            "- ThreePpct\n",
            "Feature names seen at fit time, yet now missing:\n",
            "- 3P%\n",
            "- FG%\n",
            "\n",
            "  warnings.warn(message, FutureWarning)\n"
          ]
        },
        {
          "output_type": "execute_result",
          "data": {
            "text/plain": [
              "((array([-2.99148779, -2.70949569, -2.55092824, -2.43849088, -2.35038866,\n",
              "         -2.27745777, -2.21494281, -2.16004641, -2.11097846, -2.06652166,\n",
              "         -2.02580925, -1.98820138, -1.95321175, -1.92046179, -1.88965077,\n",
              "         -1.86053573, -1.83291741, -1.8066303 , -1.7815354 , -1.75751472,\n",
              "         -1.73446731, -1.71230602, -1.69095513, -1.67034836, -1.65042742,\n",
              "         -1.63114071, -1.61244233, -1.5942913 , -1.57665082, -1.55948776,\n",
              "         -1.54277217, -1.52647685, -1.51057708, -1.49505026, -1.47987574,\n",
              "         -1.46503453, -1.45050917, -1.43628356, -1.42234281, -1.40867313,\n",
              "         -1.39526172, -1.38209668, -1.36916692, -1.35646209, -1.34397251,\n",
              "         -1.33168913, -1.31960346, -1.30770751, -1.2959938 , -1.28445526,\n",
              "         -1.27308524, -1.26187747, -1.250826  , -1.23992522, -1.22916982,\n",
              "         -1.21855477, -1.20807526, -1.19772678, -1.187505  , -1.17740581,\n",
              "         -1.1674253 , -1.15755974, -1.14780558, -1.13815942, -1.12861802,\n",
              "         -1.11917828, -1.10983722, -1.10059201, -1.09143993, -1.08237837,\n",
              "         -1.07340482, -1.06451688, -1.05571225, -1.04698871, -1.03834413,\n",
              "         -1.02977645, -1.02128371, -1.01286399, -1.00451548, -0.99623639,\n",
              "         -0.98802503, -0.97987976, -0.97179898, -0.96378117, -0.95582484,\n",
              "         -0.94792857, -0.94009096, -0.93231067, -0.92458642, -0.91691694,\n",
              "         -0.90930102, -0.90173748, -0.89422517, -0.886763  , -0.87934988,\n",
              "         -0.87198477, -0.86466666, -0.85739457, -0.85016754, -0.84298465,\n",
              "         -0.83584498, -0.82874767, -0.82169186, -0.81467673, -0.80770146,\n",
              "         -0.80076527, -0.79386739, -0.78700708, -0.78018361, -0.77339627,\n",
              "         -0.76664438, -0.75992726, -0.75324425, -0.74659471, -0.73997803,\n",
              "         -0.73339358, -0.72684078, -0.72031904, -0.71382779, -0.70736648,\n",
              "         -0.70093457, -0.69453153, -0.68815684, -0.68180999, -0.67549049,\n",
              "         -0.66919785, -0.66293159, -0.65669127, -0.6504764 , -0.64428657,\n",
              "         -0.63812132, -0.63198023, -0.62586288, -0.61976886, -0.61369778,\n",
              "         -0.60764923, -0.60162283, -0.5956182 , -0.58963497, -0.58367277,\n",
              "         -0.57773125, -0.57181006, -0.56590884, -0.56002727, -0.55416501,\n",
              "         -0.54832173, -0.54249711, -0.53669084, -0.53090261, -0.52513211,\n",
              "         -0.51937905, -0.51364312, -0.50792404, -0.50222153, -0.4965353 ,\n",
              "         -0.49086509, -0.48521061, -0.4795716 , -0.4739478 , -0.46833895,\n",
              "         -0.4627448 , -0.45716509, -0.45159957, -0.44604801, -0.44051017,\n",
              "         -0.4349858 , -0.42947467, -0.42397656, -0.41849123, -0.41301847,\n",
              "         -0.40755805, -0.40210975, -0.39667337, -0.39124868, -0.38583548,\n",
              "         -0.38043357, -0.37504273, -0.36966277, -0.36429349, -0.35893469,\n",
              "         -0.35358618, -0.34824776, -0.34291925, -0.33760046, -0.33229121,\n",
              "         -0.3269913 , -0.32170056, -0.31641881, -0.31114588, -0.30588158,\n",
              "         -0.30062574, -0.2953782 , -0.29013878, -0.28490731, -0.27968362,\n",
              "         -0.27446756, -0.26925895, -0.26405764, -0.25886346, -0.25367626,\n",
              "         -0.24849587, -0.24332215, -0.23815492, -0.23299405, -0.22783938,\n",
              "         -0.22269076, -0.21754803, -0.21241105, -0.20727966, -0.20215373,\n",
              "         -0.19703311, -0.19191765, -0.1868072 , -0.18170163, -0.17660079,\n",
              "         -0.17150454, -0.16641274, -0.16132525, -0.15624194, -0.15116266,\n",
              "         -0.14608727, -0.14101565, -0.13594765, -0.13088314, -0.12582199,\n",
              "         -0.12076405, -0.1157092 , -0.11065731, -0.10560824, -0.10056186,\n",
              "         -0.09551805, -0.09047666, -0.08543756, -0.08040064, -0.07536576,\n",
              "         -0.07033278, -0.06530159, -0.06027205, -0.05524403, -0.05021741,\n",
              "         -0.04519206, -0.04016785, -0.03514465, -0.03012234, -0.02510079,\n",
              "         -0.02007988, -0.01505946, -0.01003943, -0.00501965,  0.        ,\n",
              "          0.00501965,  0.01003943,  0.01505946,  0.02007988,  0.02510079,\n",
              "          0.03012234,  0.03514465,  0.04016785,  0.04519206,  0.05021741,\n",
              "          0.05524403,  0.06027205,  0.06530159,  0.07033278,  0.07536576,\n",
              "          0.08040064,  0.08543756,  0.09047666,  0.09551805,  0.10056186,\n",
              "          0.10560824,  0.11065731,  0.1157092 ,  0.12076405,  0.12582199,\n",
              "          0.13088314,  0.13594765,  0.14101565,  0.14608727,  0.15116266,\n",
              "          0.15624194,  0.16132525,  0.16641274,  0.17150454,  0.17660079,\n",
              "          0.18170163,  0.1868072 ,  0.19191765,  0.19703311,  0.20215373,\n",
              "          0.20727966,  0.21241105,  0.21754803,  0.22269076,  0.22783938,\n",
              "          0.23299405,  0.23815492,  0.24332215,  0.24849587,  0.25367626,\n",
              "          0.25886346,  0.26405764,  0.26925895,  0.27446756,  0.27968362,\n",
              "          0.28490731,  0.29013878,  0.2953782 ,  0.30062574,  0.30588158,\n",
              "          0.31114588,  0.31641881,  0.32170056,  0.3269913 ,  0.33229121,\n",
              "          0.33760046,  0.34291925,  0.34824776,  0.35358618,  0.35893469,\n",
              "          0.36429349,  0.36966277,  0.37504273,  0.38043357,  0.38583548,\n",
              "          0.39124868,  0.39667337,  0.40210975,  0.40755805,  0.41301847,\n",
              "          0.41849123,  0.42397656,  0.42947467,  0.4349858 ,  0.44051017,\n",
              "          0.44604801,  0.45159957,  0.45716509,  0.4627448 ,  0.46833895,\n",
              "          0.4739478 ,  0.4795716 ,  0.48521061,  0.49086509,  0.4965353 ,\n",
              "          0.50222153,  0.50792404,  0.51364312,  0.51937905,  0.52513211,\n",
              "          0.53090261,  0.53669084,  0.54249711,  0.54832173,  0.55416501,\n",
              "          0.56002727,  0.56590884,  0.57181006,  0.57773125,  0.58367277,\n",
              "          0.58963497,  0.5956182 ,  0.60162283,  0.60764923,  0.61369778,\n",
              "          0.61976886,  0.62586288,  0.63198023,  0.63812132,  0.64428657,\n",
              "          0.6504764 ,  0.65669127,  0.66293159,  0.66919785,  0.67549049,\n",
              "          0.68180999,  0.68815684,  0.69453153,  0.70093457,  0.70736648,\n",
              "          0.71382779,  0.72031904,  0.72684078,  0.73339358,  0.73997803,\n",
              "          0.74659471,  0.75324425,  0.75992726,  0.76664438,  0.77339627,\n",
              "          0.78018361,  0.78700708,  0.79386739,  0.80076527,  0.80770146,\n",
              "          0.81467673,  0.82169186,  0.82874767,  0.83584498,  0.84298465,\n",
              "          0.85016754,  0.85739457,  0.86466666,  0.87198477,  0.87934988,\n",
              "          0.886763  ,  0.89422517,  0.90173748,  0.90930102,  0.91691694,\n",
              "          0.92458642,  0.93231067,  0.94009096,  0.94792857,  0.95582484,\n",
              "          0.96378117,  0.97179898,  0.97987976,  0.98802503,  0.99623639,\n",
              "          1.00451548,  1.01286399,  1.02128371,  1.02977645,  1.03834413,\n",
              "          1.04698871,  1.05571225,  1.06451688,  1.07340482,  1.08237837,\n",
              "          1.09143993,  1.10059201,  1.10983722,  1.11917828,  1.12861802,\n",
              "          1.13815942,  1.14780558,  1.15755974,  1.1674253 ,  1.17740581,\n",
              "          1.187505  ,  1.19772678,  1.20807526,  1.21855477,  1.22916982,\n",
              "          1.23992522,  1.250826  ,  1.26187747,  1.27308524,  1.28445526,\n",
              "          1.2959938 ,  1.30770751,  1.31960346,  1.33168913,  1.34397251,\n",
              "          1.35646209,  1.36916692,  1.38209668,  1.39526172,  1.40867313,\n",
              "          1.42234281,  1.43628356,  1.45050917,  1.46503453,  1.47987574,\n",
              "          1.49505026,  1.51057708,  1.52647685,  1.54277217,  1.55948776,\n",
              "          1.57665082,  1.5942913 ,  1.61244233,  1.63114071,  1.65042742,\n",
              "          1.67034836,  1.69095513,  1.71230602,  1.73446731,  1.75751472,\n",
              "          1.7815354 ,  1.8066303 ,  1.83291741,  1.86053573,  1.88965077,\n",
              "          1.92046179,  1.95321175,  1.98820138,  2.02580925,  2.06652166,\n",
              "          2.11097846,  2.16004641,  2.21494281,  2.27745777,  2.35038866,\n",
              "          2.43849088,  2.55092824,  2.70949569,  2.99148779]),\n",
              "  array([-93.97718122, -90.1108677 , -88.75957399, -87.48369527,\n",
              "         -86.37711942, -86.36672863, -86.24646801, -86.09429033,\n",
              "         -85.77614567, -84.37265799, -83.36365974, -83.08888466,\n",
              "         -82.99010875, -82.94172417, -82.92432375, -82.81097582,\n",
              "         -82.13030527, -82.11000149, -81.76184095, -81.0976105 ,\n",
              "         -80.57456297, -80.47083146, -80.43459393, -80.32345015,\n",
              "         -80.22012581, -80.00196477, -79.75926164, -79.29957941,\n",
              "         -79.1284019 , -79.06642905, -78.79260295, -78.42014399,\n",
              "         -78.34806451, -78.26400533, -77.86854611, -77.79091842,\n",
              "         -77.04354575, -77.00516764, -76.91604876, -76.8214068 ,\n",
              "         -76.78200163, -76.33972371, -76.08024954, -75.93717033,\n",
              "         -75.93059521, -75.9024865 , -75.77521101, -75.70939977,\n",
              "         -75.60923206, -75.46882267, -75.33355261, -75.3320711 ,\n",
              "         -75.32478709, -75.29407857, -74.88195926, -74.52393052,\n",
              "         -74.50830067, -74.50389915, -74.49886462, -74.37076149,\n",
              "         -74.01732427, -73.76626966, -73.67249735, -73.64622475,\n",
              "         -73.45872063, -73.38775057, -73.3684764 , -73.28572855,\n",
              "         -73.02869898, -72.72472676, -72.63664707, -72.61175067,\n",
              "         -72.53377754, -72.52873068, -72.49804693, -72.33641719,\n",
              "         -72.27373096, -72.18938205, -72.15240476, -72.02528069,\n",
              "         -71.4124087 , -71.27608628, -71.06715195, -71.02939726,\n",
              "         -70.97018169, -70.68276851, -70.65100316, -70.54780891,\n",
              "         -70.47979494, -70.05634433, -70.05511067, -69.76381965,\n",
              "         -69.75415035, -69.55634981, -69.45518912, -69.32909345,\n",
              "         -69.32856968, -69.26186266, -69.24660111, -69.02062342,\n",
              "         -68.59939409, -68.49924682, -68.36212679, -68.20190042,\n",
              "         -68.16653753, -68.15686781, -68.15051388, -68.14106571,\n",
              "         -67.81101439, -67.72983389, -67.68548208, -67.66725153,\n",
              "         -67.61795659, -67.59322506, -67.55040138, -67.46110198,\n",
              "         -67.435153  , -67.29538527, -67.21487536, -67.20531002,\n",
              "         -67.01718659, -67.00510606, -66.8451551 , -66.69851392,\n",
              "         -66.65348772, -66.60679912, -66.49074903, -66.44612132,\n",
              "         -66.32678202, -66.25313723, -66.2380318 , -66.054881  ,\n",
              "         -65.91040471, -65.77770916, -65.75446074, -65.75077406,\n",
              "         -65.56560308, -65.56091504, -65.54548894, -65.45251798,\n",
              "         -65.4187267 , -65.39457471, -65.35557928, -65.27412855,\n",
              "         -65.17081386, -65.12979554, -65.06014467, -65.03743461,\n",
              "         -64.8203332 , -64.75392478, -64.47332034, -64.43423527,\n",
              "         -64.39059833, -64.16525654, -64.14054682, -64.119285  ,\n",
              "         -64.10190817, -64.07394762, -63.93190186, -63.90755237,\n",
              "         -63.79143831, -63.76302699, -63.72759191, -63.56346769,\n",
              "         -63.51659852, -63.4976702 , -63.47823644, -63.24997308,\n",
              "         -63.09243772, -63.03926853, -63.03640047, -62.95538833,\n",
              "         -62.95225479, -62.89287894, -62.87161859, -62.72027724,\n",
              "         -62.70888062, -62.59887879, -62.5293969 , -62.52859196,\n",
              "         -62.50367421, -62.50219395, -62.36035279, -62.22284385,\n",
              "         -62.12853885, -61.81450332, -61.7395549 , -61.73375563,\n",
              "         -61.65285182, -61.63993921, -61.634578  , -61.58396658,\n",
              "         -61.58107639, -61.50839957, -61.42686427, -61.38333082,\n",
              "         -61.32889008, -61.29990792, -61.28467313, -61.17677851,\n",
              "         -61.1280324 , -60.88430926, -60.75738368, -60.75205353,\n",
              "         -60.61058144, -60.52837472, -60.48850407, -60.33515468,\n",
              "         -60.30789802, -60.25857774, -60.25568791, -60.2451904 ,\n",
              "         -60.22503577, -60.16601786, -60.05688051, -60.05504997,\n",
              "         -60.02670114, -59.96881471, -59.96483198, -59.77377895,\n",
              "         -59.67270958, -59.46389247, -59.45812834, -59.23441314,\n",
              "         -59.19358409, -59.12289497, -59.11209736, -59.10543552,\n",
              "         -59.08238805, -59.0437635 , -59.03541693, -58.99048547,\n",
              "         -58.90724372, -58.88768445, -58.75787275, -58.66204397,\n",
              "         -58.62302141, -58.61783145, -58.52664387, -58.52386966,\n",
              "         -58.45067932, -58.37332836, -58.36763846, -58.35716234,\n",
              "         -58.24591809, -58.21394002, -58.08673782, -58.04662829,\n",
              "         -58.03624025, -58.01970167, -57.94458911, -57.8074471 ,\n",
              "         -57.7707275 , -57.76940247, -57.54554131, -57.51897877,\n",
              "         -57.40263481, -57.3802095 , -57.31325132, -57.29577449,\n",
              "         -57.27295314, -57.26559365, -57.23264709, -57.22543659,\n",
              "         -57.1215372 , -57.09379147, -57.03540896, -57.00737829,\n",
              "         -56.94530748, -56.91712105, -56.91128747, -56.53590599,\n",
              "         -56.38774677, -56.3257572 , -56.25923499, -56.20583817,\n",
              "         -56.1922044 , -56.13536066, -56.12605933, -56.06149052,\n",
              "         -56.04697315, -55.99976191, -55.76136949, -55.69072748,\n",
              "         -55.62878153, -55.46648573, -55.26941085, -55.20185565,\n",
              "         -55.13984943, -55.13470783, -54.96593144, -54.94597025,\n",
              "         -54.85547058, -54.83066971, -54.79356612, -54.77823395,\n",
              "         -54.61735999, -54.51317792, -54.48796665, -54.43757292,\n",
              "         -54.42676959, -54.39286703, -54.30521053, -54.29224303,\n",
              "         -54.15367772, -54.05541857, -53.91175936, -53.836248  ,\n",
              "         -53.78974065, -53.68707472, -53.6833784 , -53.42763969,\n",
              "         -53.23610125, -53.23320518, -53.09093138, -53.06225178,\n",
              "         -53.0547178 , -53.05253989, -52.97199543, -52.83644306,\n",
              "         -52.73332142, -52.59306588, -52.48465897, -52.44319458,\n",
              "         -52.44096993, -52.44073297, -52.33047007, -52.24394876,\n",
              "         -52.24292649, -52.07028075, -52.06191904, -52.05002086,\n",
              "         -51.99621666, -51.89088375, -51.81801797, -51.81074609,\n",
              "         -51.73234256, -51.54512522, -51.40082557, -51.38733864,\n",
              "         -51.11037827, -51.09500053, -51.0822286 , -50.98708289,\n",
              "         -50.95053637, -50.91214805, -50.90755601, -50.86877608,\n",
              "         -50.76362819, -50.54918058, -50.45029326, -50.38210215,\n",
              "         -50.31398365, -50.18870292, -50.16316973, -50.14331702,\n",
              "         -50.05157915, -50.04289661, -50.01969729, -50.01716051,\n",
              "         -49.98042663, -49.96992552, -49.78622288, -49.65232777,\n",
              "         -49.56184517, -49.34140824, -49.30163623, -49.2413859 ,\n",
              "         -49.1036867 , -49.05852989, -49.02603742, -49.02490385,\n",
              "         -49.01410088, -48.77867876, -48.67371305, -48.64786101,\n",
              "         -48.46370299, -48.43726106, -48.38646052, -48.21154744,\n",
              "         -48.14264044, -48.0182783 , -47.78835696, -47.43503625,\n",
              "         -47.41542549, -47.34832421, -47.09553628, -46.55762095,\n",
              "         -46.54185873, -46.41927683, -46.40473885, -46.2622574 ,\n",
              "         -46.23725252, -46.23085512, -46.15724459, -46.05227175,\n",
              "         -45.32709014, -45.14093656, -45.11017915, -45.0960461 ,\n",
              "         -45.02850111, -45.02705121, -44.95998454, -44.87885627,\n",
              "         -44.8017089 , -44.79121801, -44.3899964 , -44.29894281,\n",
              "         -44.0829632 , -43.98426611, -43.9088295 , -43.8969297 ,\n",
              "         -43.6488051 , -43.62716698, -43.50581319, -43.43220539,\n",
              "         -43.38986725, -43.04830698, -43.03073795, -43.00575702,\n",
              "         -42.98286742, -42.96739405, -42.4772884 , -42.43293236,\n",
              "         -42.3942479 , -42.36217515, -42.34679221, -41.95405794,\n",
              "         -41.89540318, -41.88178169, -41.87700657, -41.83413651,\n",
              "         -41.69793538, -41.51380234, -41.35534913, -41.26168141,\n",
              "         -41.16034315, -41.15468589, -41.08392415, -41.01788757,\n",
              "         -41.01531658, -41.00956437, -40.96638188, -40.88395856,\n",
              "         -40.77222488, -40.56415306, -40.2760464 , -40.26036944,\n",
              "         -40.16271222, -40.13797536, -39.6590845 , -39.6572183 ,\n",
              "         -39.51488348, -39.44433746, -39.02906206, -38.94294351,\n",
              "         -38.85273437, -38.69571795, -38.63814409, -38.14979536,\n",
              "         -37.79558901, -37.73155152, -37.43260852, -37.38300593,\n",
              "         -37.29847946, -37.13642129, -36.96251579, -36.94969639,\n",
              "         -36.85048379, -36.58940822, -36.42699394, -35.93801414,\n",
              "         -35.74067701, -35.57497316, -34.625191  , -34.58977916,\n",
              "         -34.323263  , -34.04220375, -33.54499856, -33.45805369,\n",
              "         -33.26669818, -32.69983468, -32.40265167, -32.22083928,\n",
              "         -31.94927599, -31.88766284, -31.01061174, -30.9386802 ,\n",
              "         -30.63191055, -30.05932645, -28.75577712, -28.35163125,\n",
              "         -28.06318326, -24.97765643, -23.96480599, -23.85492477,\n",
              "         -22.63987034, -21.55027509, -19.98617015])),\n",
              " (13.567003895673224, -57.537213220003885, 0.9989789121160517))"
            ]
          },
          "metadata": {},
          "execution_count": 122
        },
        {
          "output_type": "display_data",
          "data": {
            "text/plain": [
              "<Figure size 432x288 with 1 Axes>"
            ],
            "image/png": "[encoded data removed]"
          },
          "metadata": {
            "needs_background": "light"
          }
        }
      ]
    },
    {
      "cell_type": "markdown",
      "source": [
        "Based on your model, what would the predicted winning percentage be for a team that had a field goal percentage = 47.7%, a 3 point percentage = 34.1%, a free throw percentage = 80.2 %, and turnovers per game = 15.9?"
      ],
      "metadata": {
        "id": "DBWR3UDHGnj2"
      }
    },
    {
      "cell_type": "code",
      "source": [
        "win_percent = -131.22+(4.26*47.7)+(1.43*34.1)+(.2*80.2)+(-3.3*15.9)\n",
        "win_percent"
      ],
      "metadata": {
        "colab": {
          "base_uri": "https://localhost:8080/"
        },
        "id": "Zd0z4rCQMxtj",
        "outputId": "50e809c5-4338-4a7e-857f-6a65ce701c84"
      },
      "execution_count": null,
      "outputs": [
        {
          "output_type": "execute_result",
          "data": {
            "text/plain": [
              "84.315"
            ]
          },
          "metadata": {},
          "execution_count": 1
        }
      ]
    }
  ]
}